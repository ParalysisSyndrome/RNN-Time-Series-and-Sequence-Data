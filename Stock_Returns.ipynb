{
 "cells": [
  {
   "cell_type": "code",
   "execution_count": 1,
   "metadata": {
    "colab": {
     "base_uri": "https://localhost:8080/",
     "height": 34
    },
    "id": "JkljvqYBN0Fa",
    "outputId": "a6d8423c-ad80-400d-91eb-19814d1395e2"
   },
   "outputs": [
    {
     "name": "stdout",
     "output_type": "stream",
     "text": [
      "2.3.1\n"
     ]
    }
   ],
   "source": [
    "# Install TensorFlow\n",
    "# !pip install -q tensorflow-gpu==2.0.0-beta1\n",
    "\n",
    "try:\n",
    "    %tensorflow_version 2.x  # Colab only.\n",
    "except Exception:\n",
    "    pass\n",
    "\n",
    "import tensorflow as tf\n",
    "print(tf.__version__)"
   ]
  },
  {
   "cell_type": "code",
   "execution_count": 17,
   "metadata": {
    "id": "AJ1XDZAJNjNG"
   },
   "outputs": [],
   "source": [
    "# More imports\n",
    "from tensorflow.keras.layers import Input, LSTM, GRU, SimpleRNN, Dense, GlobalMaxPool1D\n",
    "from tensorflow.keras.models import Model\n",
    "from tensorflow.keras.optimizers import SGD, Adam\n",
    "\n",
    "import numpy as np\n",
    "import pandas as pd\n",
    "import matplotlib.pyplot as plt\n",
    "from sklearn.preprocessing import StandardScaler\n",
    "plt.style.use('ggplot')"
   ]
  },
  {
   "cell_type": "code",
   "execution_count": 3,
   "metadata": {
    "id": "DhvsuKhcNq7t"
   },
   "outputs": [
    {
     "data": {
      "text/html": [
       "<div>\n",
       "<style scoped>\n",
       "    .dataframe tbody tr th:only-of-type {\n",
       "        vertical-align: middle;\n",
       "    }\n",
       "\n",
       "    .dataframe tbody tr th {\n",
       "        vertical-align: top;\n",
       "    }\n",
       "\n",
       "    .dataframe thead th {\n",
       "        text-align: right;\n",
       "    }\n",
       "</style>\n",
       "<table border=\"1\" class=\"dataframe\">\n",
       "  <thead>\n",
       "    <tr style=\"text-align: right;\">\n",
       "      <th></th>\n",
       "      <th>date</th>\n",
       "      <th>open</th>\n",
       "      <th>high</th>\n",
       "      <th>low</th>\n",
       "      <th>close</th>\n",
       "      <th>volume</th>\n",
       "      <th>Name</th>\n",
       "    </tr>\n",
       "  </thead>\n",
       "  <tbody>\n",
       "    <tr>\n",
       "      <th>0</th>\n",
       "      <td>2013-02-08</td>\n",
       "      <td>27.920</td>\n",
       "      <td>28.325</td>\n",
       "      <td>27.920</td>\n",
       "      <td>28.185</td>\n",
       "      <td>7146296</td>\n",
       "      <td>SBUX</td>\n",
       "    </tr>\n",
       "    <tr>\n",
       "      <th>1</th>\n",
       "      <td>2013-02-11</td>\n",
       "      <td>28.260</td>\n",
       "      <td>28.260</td>\n",
       "      <td>27.930</td>\n",
       "      <td>28.070</td>\n",
       "      <td>5457354</td>\n",
       "      <td>SBUX</td>\n",
       "    </tr>\n",
       "    <tr>\n",
       "      <th>2</th>\n",
       "      <td>2013-02-12</td>\n",
       "      <td>28.000</td>\n",
       "      <td>28.275</td>\n",
       "      <td>27.975</td>\n",
       "      <td>28.130</td>\n",
       "      <td>8665592</td>\n",
       "      <td>SBUX</td>\n",
       "    </tr>\n",
       "    <tr>\n",
       "      <th>3</th>\n",
       "      <td>2013-02-13</td>\n",
       "      <td>28.230</td>\n",
       "      <td>28.230</td>\n",
       "      <td>27.750</td>\n",
       "      <td>27.915</td>\n",
       "      <td>7022056</td>\n",
       "      <td>SBUX</td>\n",
       "    </tr>\n",
       "    <tr>\n",
       "      <th>4</th>\n",
       "      <td>2013-02-14</td>\n",
       "      <td>27.765</td>\n",
       "      <td>27.905</td>\n",
       "      <td>27.675</td>\n",
       "      <td>27.775</td>\n",
       "      <td>8899188</td>\n",
       "      <td>SBUX</td>\n",
       "    </tr>\n",
       "  </tbody>\n",
       "</table>\n",
       "</div>"
      ],
      "text/plain": [
       "         date    open    high     low   close   volume  Name\n",
       "0  2013-02-08  27.920  28.325  27.920  28.185  7146296  SBUX\n",
       "1  2013-02-11  28.260  28.260  27.930  28.070  5457354  SBUX\n",
       "2  2013-02-12  28.000  28.275  27.975  28.130  8665592  SBUX\n",
       "3  2013-02-13  28.230  28.230  27.750  27.915  7022056  SBUX\n",
       "4  2013-02-14  27.765  27.905  27.675  27.775  8899188  SBUX"
      ]
     },
     "execution_count": 3,
     "metadata": {},
     "output_type": "execute_result"
    }
   ],
   "source": [
    "# yes, you can read dataframes from URLs!\n",
    "df = pd.read_csv('https://raw.githubusercontent.com/lazyprogrammer/machine_learning_examples/master/tf2.0/sbux.csv')\n",
    "df.head()"
   ]
  },
  {
   "cell_type": "code",
   "execution_count": 4,
   "metadata": {
    "colab": {
     "base_uri": "https://localhost:8080/",
     "height": 204
    },
    "id": "NLmweO2o-wgS",
    "outputId": "feaf8e29-1270-4fe9-dbd6-b85d9d7f3234"
   },
   "outputs": [
    {
     "data": {
      "text/html": [
       "<div>\n",
       "<style scoped>\n",
       "    .dataframe tbody tr th:only-of-type {\n",
       "        vertical-align: middle;\n",
       "    }\n",
       "\n",
       "    .dataframe tbody tr th {\n",
       "        vertical-align: top;\n",
       "    }\n",
       "\n",
       "    .dataframe thead th {\n",
       "        text-align: right;\n",
       "    }\n",
       "</style>\n",
       "<table border=\"1\" class=\"dataframe\">\n",
       "  <thead>\n",
       "    <tr style=\"text-align: right;\">\n",
       "      <th></th>\n",
       "      <th>date</th>\n",
       "      <th>open</th>\n",
       "      <th>high</th>\n",
       "      <th>low</th>\n",
       "      <th>close</th>\n",
       "      <th>volume</th>\n",
       "      <th>Name</th>\n",
       "    </tr>\n",
       "  </thead>\n",
       "  <tbody>\n",
       "    <tr>\n",
       "      <th>1254</th>\n",
       "      <td>2018-02-01</td>\n",
       "      <td>56.280</td>\n",
       "      <td>56.42</td>\n",
       "      <td>55.89</td>\n",
       "      <td>56.00</td>\n",
       "      <td>14690146</td>\n",
       "      <td>SBUX</td>\n",
       "    </tr>\n",
       "    <tr>\n",
       "      <th>1255</th>\n",
       "      <td>2018-02-02</td>\n",
       "      <td>55.900</td>\n",
       "      <td>56.32</td>\n",
       "      <td>55.70</td>\n",
       "      <td>55.77</td>\n",
       "      <td>15358909</td>\n",
       "      <td>SBUX</td>\n",
       "    </tr>\n",
       "    <tr>\n",
       "      <th>1256</th>\n",
       "      <td>2018-02-05</td>\n",
       "      <td>55.530</td>\n",
       "      <td>56.26</td>\n",
       "      <td>54.57</td>\n",
       "      <td>54.69</td>\n",
       "      <td>16059955</td>\n",
       "      <td>SBUX</td>\n",
       "    </tr>\n",
       "    <tr>\n",
       "      <th>1257</th>\n",
       "      <td>2018-02-06</td>\n",
       "      <td>53.685</td>\n",
       "      <td>56.06</td>\n",
       "      <td>53.56</td>\n",
       "      <td>55.61</td>\n",
       "      <td>17415065</td>\n",
       "      <td>SBUX</td>\n",
       "    </tr>\n",
       "    <tr>\n",
       "      <th>1258</th>\n",
       "      <td>2018-02-07</td>\n",
       "      <td>55.080</td>\n",
       "      <td>55.43</td>\n",
       "      <td>54.44</td>\n",
       "      <td>54.46</td>\n",
       "      <td>13927022</td>\n",
       "      <td>SBUX</td>\n",
       "    </tr>\n",
       "  </tbody>\n",
       "</table>\n",
       "</div>"
      ],
      "text/plain": [
       "            date    open   high    low  close    volume  Name\n",
       "1254  2018-02-01  56.280  56.42  55.89  56.00  14690146  SBUX\n",
       "1255  2018-02-02  55.900  56.32  55.70  55.77  15358909  SBUX\n",
       "1256  2018-02-05  55.530  56.26  54.57  54.69  16059955  SBUX\n",
       "1257  2018-02-06  53.685  56.06  53.56  55.61  17415065  SBUX\n",
       "1258  2018-02-07  55.080  55.43  54.44  54.46  13927022  SBUX"
      ]
     },
     "execution_count": 4,
     "metadata": {},
     "output_type": "execute_result"
    }
   ],
   "source": [
    "df.tail()"
   ]
  },
  {
   "cell_type": "markdown",
   "metadata": {},
   "source": [
    "#### Now let's try an LSTM to predict \"close\""
   ]
  },
  {
   "cell_type": "code",
   "execution_count": 5,
   "metadata": {
    "id": "qczc-TUNO0th"
   },
   "outputs": [],
   "source": [
    "# Start by doing the WRONG thing - trying to predict the price itself\n",
    "series = df['close'].values.reshape(-1, 1)"
   ]
  },
  {
   "cell_type": "code",
   "execution_count": 8,
   "metadata": {
    "id": "X6lJwsOgPVaB"
   },
   "outputs": [],
   "source": [
    "# Normalize the data\n",
    "# Note: I didn't think about where the true boundary is, this is just approx.\n",
    "scaler = StandardScaler()\n",
    "scaler.fit(series[:len(series) // 2])\n",
    "series = scaler.transform(series).flatten()"
   ]
  },
  {
   "cell_type": "code",
   "execution_count": 15,
   "metadata": {
    "colab": {
     "base_uri": "https://localhost:8080/",
     "height": 34
    },
    "id": "3j6Jk2pkPTjE",
    "outputId": "14f774c5-95f0-4acd-d023-7aff6c6c0e82"
   },
   "outputs": [
    {
     "name": "stdout",
     "output_type": "stream",
     "text": [
      "X.shape (1249, 10, 1) Y.shape (1249,)\n"
     ]
    }
   ],
   "source": [
    "### build the dataset\n",
    "# let's see if we can use T past values to predict the next value\n",
    "T = 10\n",
    "D = 1\n",
    "X = []\n",
    "Y = []\n",
    "for t in range(len(series) - T):\n",
    "    x = series[t:t+T]\n",
    "    X.append(x)\n",
    "    y = series[t+T]\n",
    "    Y.append(y)\n",
    "\n",
    "X = np.array(X).reshape(-1, T, D) # Now the data should be N x T x D\n",
    "Y = np.array(Y)\n",
    "N = len(X)\n",
    "print(\"X.shape\", X.shape, \"Y.shape\", Y.shape)"
   ]
  },
  {
   "cell_type": "markdown",
   "metadata": {},
   "source": [
    "#### LTSM (T = 10)"
   ]
  },
  {
   "cell_type": "code",
   "execution_count": 16,
   "metadata": {
    "colab": {
     "base_uri": "https://localhost:8080/",
     "height": 1000
    },
    "id": "R5uMLXonPEnZ",
    "outputId": "977911fa-8ed2-4663-a133-2f9c7190776d"
   },
   "outputs": [
    {
     "name": "stdout",
     "output_type": "stream",
     "text": [
      "Epoch 1/80\n",
      "20/20 [==============================] - 1s 38ms/step - loss: 0.2895 - val_loss: 0.7369\n",
      "Epoch 2/80\n",
      "20/20 [==============================] - 0s 6ms/step - loss: 0.0263 - val_loss: 0.0770\n",
      "Epoch 3/80\n",
      "20/20 [==============================] - 0s 6ms/step - loss: 0.0081 - val_loss: 0.0566\n",
      "Epoch 4/80\n",
      "20/20 [==============================] - 0s 6ms/step - loss: 0.0067 - val_loss: 0.0637\n",
      "Epoch 5/80\n",
      "20/20 [==============================] - 0s 6ms/step - loss: 0.0062 - val_loss: 0.0514\n",
      "Epoch 6/80\n",
      "20/20 [==============================] - 0s 6ms/step - loss: 0.0056 - val_loss: 0.0412\n",
      "Epoch 7/80\n",
      "20/20 [==============================] - 0s 6ms/step - loss: 0.0061 - val_loss: 0.0439\n",
      "Epoch 8/80\n",
      "20/20 [==============================] - 0s 6ms/step - loss: 0.0064 - val_loss: 0.0735\n",
      "Epoch 9/80\n",
      "20/20 [==============================] - 0s 6ms/step - loss: 0.0063 - val_loss: 0.0484\n",
      "Epoch 10/80\n",
      "20/20 [==============================] - 0s 6ms/step - loss: 0.0070 - val_loss: 0.0516\n",
      "Epoch 11/80\n",
      "20/20 [==============================] - 0s 6ms/step - loss: 0.0061 - val_loss: 0.0568\n",
      "Epoch 12/80\n",
      "20/20 [==============================] - 0s 6ms/step - loss: 0.0068 - val_loss: 0.0388\n",
      "Epoch 13/80\n",
      "20/20 [==============================] - 0s 6ms/step - loss: 0.0054 - val_loss: 0.0422\n",
      "Epoch 14/80\n",
      "20/20 [==============================] - 0s 6ms/step - loss: 0.0054 - val_loss: 0.0381\n",
      "Epoch 15/80\n",
      "20/20 [==============================] - 0s 6ms/step - loss: 0.0061 - val_loss: 0.0419\n",
      "Epoch 16/80\n",
      "20/20 [==============================] - 0s 6ms/step - loss: 0.0062 - val_loss: 0.0321\n",
      "Epoch 17/80\n",
      "20/20 [==============================] - 0s 6ms/step - loss: 0.0061 - val_loss: 0.0338\n",
      "Epoch 18/80\n",
      "20/20 [==============================] - 0s 6ms/step - loss: 0.0062 - val_loss: 0.0446\n",
      "Epoch 19/80\n",
      "20/20 [==============================] - 0s 6ms/step - loss: 0.0056 - val_loss: 0.0453\n",
      "Epoch 20/80\n",
      "20/20 [==============================] - 0s 6ms/step - loss: 0.0070 - val_loss: 0.0396\n",
      "Epoch 21/80\n",
      "20/20 [==============================] - 0s 6ms/step - loss: 0.0075 - val_loss: 0.0362\n",
      "Epoch 22/80\n",
      "20/20 [==============================] - 0s 6ms/step - loss: 0.0079 - val_loss: 0.0466\n",
      "Epoch 23/80\n",
      "20/20 [==============================] - 0s 6ms/step - loss: 0.0064 - val_loss: 0.0581\n",
      "Epoch 24/80\n",
      "20/20 [==============================] - 0s 6ms/step - loss: 0.0073 - val_loss: 0.0878\n",
      "Epoch 25/80\n",
      "20/20 [==============================] - 0s 6ms/step - loss: 0.0076 - val_loss: 0.0642\n",
      "Epoch 26/80\n",
      "20/20 [==============================] - 0s 6ms/step - loss: 0.0061 - val_loss: 0.0511\n",
      "Epoch 27/80\n",
      "20/20 [==============================] - 0s 7ms/step - loss: 0.0060 - val_loss: 0.0376\n",
      "Epoch 28/80\n",
      "20/20 [==============================] - 0s 6ms/step - loss: 0.0060 - val_loss: 0.0390\n",
      "Epoch 29/80\n",
      "20/20 [==============================] - 0s 6ms/step - loss: 0.0070 - val_loss: 0.0365\n",
      "Epoch 30/80\n",
      "20/20 [==============================] - 0s 6ms/step - loss: 0.0061 - val_loss: 0.0412\n",
      "Epoch 31/80\n",
      "20/20 [==============================] - 0s 6ms/step - loss: 0.0057 - val_loss: 0.0385\n",
      "Epoch 32/80\n",
      "20/20 [==============================] - 0s 6ms/step - loss: 0.0060 - val_loss: 0.0314\n",
      "Epoch 33/80\n",
      "20/20 [==============================] - 0s 6ms/step - loss: 0.0057 - val_loss: 0.0640\n",
      "Epoch 34/80\n",
      "20/20 [==============================] - 0s 6ms/step - loss: 0.0064 - val_loss: 0.0457\n",
      "Epoch 35/80\n",
      "20/20 [==============================] - 0s 6ms/step - loss: 0.0065 - val_loss: 0.0441\n",
      "Epoch 36/80\n",
      "20/20 [==============================] - 0s 6ms/step - loss: 0.0059 - val_loss: 0.0372\n",
      "Epoch 37/80\n",
      "20/20 [==============================] - 0s 7ms/step - loss: 0.0067 - val_loss: 0.0418\n",
      "Epoch 38/80\n",
      "20/20 [==============================] - 0s 7ms/step - loss: 0.0061 - val_loss: 0.0359\n",
      "Epoch 39/80\n",
      "20/20 [==============================] - 0s 7ms/step - loss: 0.0058 - val_loss: 0.0439\n",
      "Epoch 40/80\n",
      "20/20 [==============================] - 0s 6ms/step - loss: 0.0058 - val_loss: 0.0466\n",
      "Epoch 41/80\n",
      "20/20 [==============================] - 0s 7ms/step - loss: 0.0080 - val_loss: 0.0429\n",
      "Epoch 42/80\n",
      "20/20 [==============================] - 0s 7ms/step - loss: 0.0072 - val_loss: 0.0460\n",
      "Epoch 43/80\n",
      "20/20 [==============================] - 0s 7ms/step - loss: 0.0056 - val_loss: 0.0714\n",
      "Epoch 44/80\n",
      "20/20 [==============================] - 0s 6ms/step - loss: 0.0066 - val_loss: 0.0468\n",
      "Epoch 45/80\n",
      "20/20 [==============================] - 0s 6ms/step - loss: 0.0061 - val_loss: 0.0700\n",
      "Epoch 46/80\n",
      "20/20 [==============================] - 0s 6ms/step - loss: 0.0071 - val_loss: 0.0472\n",
      "Epoch 47/80\n",
      "20/20 [==============================] - 0s 6ms/step - loss: 0.0058 - val_loss: 0.0335\n",
      "Epoch 48/80\n",
      "20/20 [==============================] - 0s 6ms/step - loss: 0.0056 - val_loss: 0.0502\n",
      "Epoch 49/80\n",
      "20/20 [==============================] - 0s 6ms/step - loss: 0.0054 - val_loss: 0.0459\n",
      "Epoch 50/80\n",
      "20/20 [==============================] - 0s 6ms/step - loss: 0.0058 - val_loss: 0.0349\n",
      "Epoch 51/80\n",
      "20/20 [==============================] - 0s 7ms/step - loss: 0.0059 - val_loss: 0.0352\n",
      "Epoch 52/80\n",
      "20/20 [==============================] - 0s 7ms/step - loss: 0.0057 - val_loss: 0.0497\n",
      "Epoch 53/80\n",
      "20/20 [==============================] - 0s 6ms/step - loss: 0.0054 - val_loss: 0.0436\n",
      "Epoch 54/80\n",
      "20/20 [==============================] - 0s 6ms/step - loss: 0.0060 - val_loss: 0.0327\n",
      "Epoch 55/80\n",
      "20/20 [==============================] - 0s 6ms/step - loss: 0.0067 - val_loss: 0.0390\n",
      "Epoch 56/80\n",
      "20/20 [==============================] - 0s 6ms/step - loss: 0.0053 - val_loss: 0.0336\n",
      "Epoch 57/80\n",
      "20/20 [==============================] - 0s 7ms/step - loss: 0.0060 - val_loss: 0.0359\n",
      "Epoch 58/80\n",
      "20/20 [==============================] - 0s 7ms/step - loss: 0.0054 - val_loss: 0.0433\n",
      "Epoch 59/80\n",
      "20/20 [==============================] - 0s 6ms/step - loss: 0.0055 - val_loss: 0.0293\n",
      "Epoch 60/80\n",
      "20/20 [==============================] - 0s 6ms/step - loss: 0.0056 - val_loss: 0.0497\n",
      "Epoch 61/80\n",
      "20/20 [==============================] - 0s 6ms/step - loss: 0.0059 - val_loss: 0.0759\n",
      "Epoch 62/80\n",
      "20/20 [==============================] - 0s 6ms/step - loss: 0.0068 - val_loss: 0.0462\n",
      "Epoch 63/80\n",
      "20/20 [==============================] - 0s 6ms/step - loss: 0.0081 - val_loss: 0.0425\n",
      "Epoch 64/80\n",
      "20/20 [==============================] - 0s 7ms/step - loss: 0.0087 - val_loss: 0.0422\n",
      "Epoch 65/80\n",
      "20/20 [==============================] - 0s 6ms/step - loss: 0.0065 - val_loss: 0.0486\n",
      "Epoch 66/80\n",
      "20/20 [==============================] - 0s 6ms/step - loss: 0.0062 - val_loss: 0.0307\n",
      "Epoch 67/80\n",
      "20/20 [==============================] - 0s 6ms/step - loss: 0.0080 - val_loss: 0.0424\n",
      "Epoch 68/80\n",
      "20/20 [==============================] - 0s 6ms/step - loss: 0.0057 - val_loss: 0.0337\n",
      "Epoch 69/80\n",
      "20/20 [==============================] - 0s 6ms/step - loss: 0.0057 - val_loss: 0.0304\n",
      "Epoch 70/80\n",
      "20/20 [==============================] - 0s 6ms/step - loss: 0.0051 - val_loss: 0.0567\n",
      "Epoch 71/80\n",
      "20/20 [==============================] - 0s 6ms/step - loss: 0.0064 - val_loss: 0.0443\n",
      "Epoch 72/80\n",
      "20/20 [==============================] - 0s 7ms/step - loss: 0.0058 - val_loss: 0.0356\n",
      "Epoch 73/80\n",
      "20/20 [==============================] - 0s 7ms/step - loss: 0.0054 - val_loss: 0.0313\n",
      "Epoch 74/80\n",
      "20/20 [==============================] - 0s 6ms/step - loss: 0.0055 - val_loss: 0.0309\n",
      "Epoch 75/80\n",
      "20/20 [==============================] - 0s 6ms/step - loss: 0.0056 - val_loss: 0.0243\n",
      "Epoch 76/80\n",
      "20/20 [==============================] - 0s 6ms/step - loss: 0.0056 - val_loss: 0.0331\n",
      "Epoch 77/80\n",
      "20/20 [==============================] - 0s 6ms/step - loss: 0.0066 - val_loss: 0.0403\n",
      "Epoch 78/80\n",
      "20/20 [==============================] - 0s 6ms/step - loss: 0.0054 - val_loss: 0.0200\n",
      "Epoch 79/80\n",
      "20/20 [==============================] - 0s 6ms/step - loss: 0.0061 - val_loss: 0.0309\n",
      "Epoch 80/80\n",
      "20/20 [==============================] - 0s 6ms/step - loss: 0.0056 - val_loss: 0.0378\n"
     ]
    }
   ],
   "source": [
    "### try autoregressive RNN model\n",
    "i = Input(shape=(T, 1))\n",
    "x = LSTM(5)(i)\n",
    "x = Dense(1)(x)\n",
    "model = Model(i, x)\n",
    "model.compile(loss='mse', \n",
    "              optimizer=Adam(lr=0.1))\n",
    "\n",
    "# train the RNN\n",
    "r = model.fit(\n",
    "  X[:-N//2], Y[:-N//2],\n",
    "  epochs=80,\n",
    "  validation_data=(X[-N//2:], Y[-N//2:]),\n",
    ")"
   ]
  },
  {
   "cell_type": "code",
   "execution_count": 18,
   "metadata": {
    "colab": {
     "base_uri": "https://localhost:8080/",
     "height": 286
    },
    "id": "gNKGakDwP6I8",
    "outputId": "40313073-51b0-4b68-9299-397032ecb9df"
   },
   "outputs": [
    {
     "data": {
      "text/plain": [
       "<matplotlib.legend.Legend at 0x2a711e66988>"
      ]
     },
     "execution_count": 18,
     "metadata": {},
     "output_type": "execute_result"
    },
    {
     "data": {
      "image/png": "[encoded data removed]",
      "text/plain": [
       "<Figure size 432x288 with 1 Axes>"
      ]
     },
     "metadata": {},
     "output_type": "display_data"
    }
   ],
   "source": [
    "# Plot loss per iteration\n",
    "plt.plot(r.history['loss'], label='loss')\n",
    "plt.plot(r.history['val_loss'], label='val_loss')\n",
    "plt.legend()"
   ]
  },
  {
   "cell_type": "code",
   "execution_count": 19,
   "metadata": {
    "colab": {
     "base_uri": "https://localhost:8080/",
     "height": 286
    },
    "id": "SnonG_CKP-W2",
    "outputId": "d800b5e9-6626-4489-fba3-bcf004740930"
   },
   "outputs": [
    {
     "name": "stdout",
     "output_type": "stream",
     "text": [
      "(1249, 1)\n"
     ]
    },
    {
     "data": {
      "image/png": "[encoded data removed]",
      "text/plain": [
       "<Figure size 432x288 with 1 Axes>"
      ]
     },
     "metadata": {},
     "output_type": "display_data"
    }
   ],
   "source": [
    "# One-step forecast using true targets\n",
    "outputs = model.predict(X)\n",
    "print(outputs.shape)\n",
    "predictions = outputs[:,0]\n",
    "\n",
    "plt.plot(Y, label='targets')\n",
    "plt.plot(predictions, label='predictions')\n",
    "plt.legend()\n",
    "plt.show()"
   ]
  },
  {
   "cell_type": "code",
   "execution_count": 20,
   "metadata": {
    "colab": {
     "base_uri": "https://localhost:8080/",
     "height": 286
    },
    "id": "_lQrWPlHQJw_",
    "outputId": "37989c10-af24-4212-e717-af42d6f34b12"
   },
   "outputs": [
    {
     "data": {
      "text/plain": [
       "<matplotlib.legend.Legend at 0x2a714985fc8>"
      ]
     },
     "execution_count": 20,
     "metadata": {},
     "output_type": "execute_result"
    },
    {
     "data": {
      "image/png": "[encoded data removed]",
      "text/plain": [
       "<Figure size 432x288 with 1 Axes>"
      ]
     },
     "metadata": {},
     "output_type": "display_data"
    }
   ],
   "source": [
    "# Multi-step forecast\n",
    "validation_target = Y[-N//2:]\n",
    "validation_predictions = []\n",
    "\n",
    "# first validation input\n",
    "last_x = X[-N//2] # 1-D array of length T\n",
    "\n",
    "while len(validation_predictions) < len(validation_target):\n",
    "    p = model.predict(last_x.reshape(1, T, 1))[0,0]    # 1x1 array -> scalar\n",
    "\n",
    "    # update the predictions list\n",
    "    validation_predictions.append(p)\n",
    "\n",
    "    # make the new input\n",
    "    last_x = np.roll(last_x, -1)\n",
    "    last_x[-1] = p\n",
    "\n",
    "plt.plot(validation_target, label='forecast target')\n",
    "plt.plot(validation_predictions, label='forecast prediction')\n",
    "plt.legend()"
   ]
  },
  {
   "cell_type": "code",
   "execution_count": 21,
   "metadata": {
    "id": "HyqtntC7OGu0"
   },
   "outputs": [],
   "source": [
    "# calculate returns by first shifting the data\n",
    "df['PrevClose'] = df['close'].shift(1) # move everything up 1\n",
    "\n",
    "# so now it's like\n",
    "# close / prev close\n",
    "# x[2] x[1]\n",
    "# x[3] x[2]\n",
    "# x[4] x[3]\n",
    "# ...\n",
    "# x[t] x[t-1]"
   ]
  },
  {
   "cell_type": "code",
   "execution_count": 22,
   "metadata": {
    "colab": {
     "base_uri": "https://localhost:8080/",
     "height": 204
    },
    "id": "K4HG4nDUOPHK",
    "outputId": "5ae5536c-b6c9-4e0a-a806-d33cc10262e4"
   },
   "outputs": [
    {
     "data": {
      "text/html": [
       "<div>\n",
       "<style scoped>\n",
       "    .dataframe tbody tr th:only-of-type {\n",
       "        vertical-align: middle;\n",
       "    }\n",
       "\n",
       "    .dataframe tbody tr th {\n",
       "        vertical-align: top;\n",
       "    }\n",
       "\n",
       "    .dataframe thead th {\n",
       "        text-align: right;\n",
       "    }\n",
       "</style>\n",
       "<table border=\"1\" class=\"dataframe\">\n",
       "  <thead>\n",
       "    <tr style=\"text-align: right;\">\n",
       "      <th></th>\n",
       "      <th>date</th>\n",
       "      <th>open</th>\n",
       "      <th>high</th>\n",
       "      <th>low</th>\n",
       "      <th>close</th>\n",
       "      <th>volume</th>\n",
       "      <th>Name</th>\n",
       "      <th>PrevClose</th>\n",
       "    </tr>\n",
       "  </thead>\n",
       "  <tbody>\n",
       "    <tr>\n",
       "      <th>0</th>\n",
       "      <td>2013-02-08</td>\n",
       "      <td>27.920</td>\n",
       "      <td>28.325</td>\n",
       "      <td>27.920</td>\n",
       "      <td>28.185</td>\n",
       "      <td>7146296</td>\n",
       "      <td>SBUX</td>\n",
       "      <td>NaN</td>\n",
       "    </tr>\n",
       "    <tr>\n",
       "      <th>1</th>\n",
       "      <td>2013-02-11</td>\n",
       "      <td>28.260</td>\n",
       "      <td>28.260</td>\n",
       "      <td>27.930</td>\n",
       "      <td>28.070</td>\n",
       "      <td>5457354</td>\n",
       "      <td>SBUX</td>\n",
       "      <td>28.185</td>\n",
       "    </tr>\n",
       "    <tr>\n",
       "      <th>2</th>\n",
       "      <td>2013-02-12</td>\n",
       "      <td>28.000</td>\n",
       "      <td>28.275</td>\n",
       "      <td>27.975</td>\n",
       "      <td>28.130</td>\n",
       "      <td>8665592</td>\n",
       "      <td>SBUX</td>\n",
       "      <td>28.070</td>\n",
       "    </tr>\n",
       "    <tr>\n",
       "      <th>3</th>\n",
       "      <td>2013-02-13</td>\n",
       "      <td>28.230</td>\n",
       "      <td>28.230</td>\n",
       "      <td>27.750</td>\n",
       "      <td>27.915</td>\n",
       "      <td>7022056</td>\n",
       "      <td>SBUX</td>\n",
       "      <td>28.130</td>\n",
       "    </tr>\n",
       "    <tr>\n",
       "      <th>4</th>\n",
       "      <td>2013-02-14</td>\n",
       "      <td>27.765</td>\n",
       "      <td>27.905</td>\n",
       "      <td>27.675</td>\n",
       "      <td>27.775</td>\n",
       "      <td>8899188</td>\n",
       "      <td>SBUX</td>\n",
       "      <td>27.915</td>\n",
       "    </tr>\n",
       "  </tbody>\n",
       "</table>\n",
       "</div>"
      ],
      "text/plain": [
       "         date    open    high     low   close   volume  Name  PrevClose\n",
       "0  2013-02-08  27.920  28.325  27.920  28.185  7146296  SBUX        NaN\n",
       "1  2013-02-11  28.260  28.260  27.930  28.070  5457354  SBUX     28.185\n",
       "2  2013-02-12  28.000  28.275  27.975  28.130  8665592  SBUX     28.070\n",
       "3  2013-02-13  28.230  28.230  27.750  27.915  7022056  SBUX     28.130\n",
       "4  2013-02-14  27.765  27.905  27.675  27.775  8899188  SBUX     27.915"
      ]
     },
     "execution_count": 22,
     "metadata": {},
     "output_type": "execute_result"
    }
   ],
   "source": [
    "df.head()"
   ]
  },
  {
   "cell_type": "code",
   "execution_count": 23,
   "metadata": {
    "id": "8NozObuNORn4"
   },
   "outputs": [],
   "source": [
    "# then the return is\n",
    "# (x[t] - x[t-1]) / x[t-1]\n",
    "df['Return'] = (df['close'] - df['PrevClose']) / df['PrevClose']"
   ]
  },
  {
   "cell_type": "code",
   "execution_count": 24,
   "metadata": {
    "colab": {
     "base_uri": "https://localhost:8080/",
     "height": 204
    },
    "id": "1o0ynO0aOVWu",
    "outputId": "27396836-f73d-4c6c-adad-a7d55c01dbd7"
   },
   "outputs": [
    {
     "data": {
      "text/html": [
       "<div>\n",
       "<style scoped>\n",
       "    .dataframe tbody tr th:only-of-type {\n",
       "        vertical-align: middle;\n",
       "    }\n",
       "\n",
       "    .dataframe tbody tr th {\n",
       "        vertical-align: top;\n",
       "    }\n",
       "\n",
       "    .dataframe thead th {\n",
       "        text-align: right;\n",
       "    }\n",
       "</style>\n",
       "<table border=\"1\" class=\"dataframe\">\n",
       "  <thead>\n",
       "    <tr style=\"text-align: right;\">\n",
       "      <th></th>\n",
       "      <th>date</th>\n",
       "      <th>open</th>\n",
       "      <th>high</th>\n",
       "      <th>low</th>\n",
       "      <th>close</th>\n",
       "      <th>volume</th>\n",
       "      <th>Name</th>\n",
       "      <th>PrevClose</th>\n",
       "      <th>Return</th>\n",
       "    </tr>\n",
       "  </thead>\n",
       "  <tbody>\n",
       "    <tr>\n",
       "      <th>0</th>\n",
       "      <td>2013-02-08</td>\n",
       "      <td>27.920</td>\n",
       "      <td>28.325</td>\n",
       "      <td>27.920</td>\n",
       "      <td>28.185</td>\n",
       "      <td>7146296</td>\n",
       "      <td>SBUX</td>\n",
       "      <td>NaN</td>\n",
       "      <td>NaN</td>\n",
       "    </tr>\n",
       "    <tr>\n",
       "      <th>1</th>\n",
       "      <td>2013-02-11</td>\n",
       "      <td>28.260</td>\n",
       "      <td>28.260</td>\n",
       "      <td>27.930</td>\n",
       "      <td>28.070</td>\n",
       "      <td>5457354</td>\n",
       "      <td>SBUX</td>\n",
       "      <td>28.185</td>\n",
       "      <td>-0.004080</td>\n",
       "    </tr>\n",
       "    <tr>\n",
       "      <th>2</th>\n",
       "      <td>2013-02-12</td>\n",
       "      <td>28.000</td>\n",
       "      <td>28.275</td>\n",
       "      <td>27.975</td>\n",
       "      <td>28.130</td>\n",
       "      <td>8665592</td>\n",
       "      <td>SBUX</td>\n",
       "      <td>28.070</td>\n",
       "      <td>0.002138</td>\n",
       "    </tr>\n",
       "    <tr>\n",
       "      <th>3</th>\n",
       "      <td>2013-02-13</td>\n",
       "      <td>28.230</td>\n",
       "      <td>28.230</td>\n",
       "      <td>27.750</td>\n",
       "      <td>27.915</td>\n",
       "      <td>7022056</td>\n",
       "      <td>SBUX</td>\n",
       "      <td>28.130</td>\n",
       "      <td>-0.007643</td>\n",
       "    </tr>\n",
       "    <tr>\n",
       "      <th>4</th>\n",
       "      <td>2013-02-14</td>\n",
       "      <td>27.765</td>\n",
       "      <td>27.905</td>\n",
       "      <td>27.675</td>\n",
       "      <td>27.775</td>\n",
       "      <td>8899188</td>\n",
       "      <td>SBUX</td>\n",
       "      <td>27.915</td>\n",
       "      <td>-0.005015</td>\n",
       "    </tr>\n",
       "  </tbody>\n",
       "</table>\n",
       "</div>"
      ],
      "text/plain": [
       "         date    open    high     low   close   volume  Name  PrevClose  \\\n",
       "0  2013-02-08  27.920  28.325  27.920  28.185  7146296  SBUX        NaN   \n",
       "1  2013-02-11  28.260  28.260  27.930  28.070  5457354  SBUX     28.185   \n",
       "2  2013-02-12  28.000  28.275  27.975  28.130  8665592  SBUX     28.070   \n",
       "3  2013-02-13  28.230  28.230  27.750  27.915  7022056  SBUX     28.130   \n",
       "4  2013-02-14  27.765  27.905  27.675  27.775  8899188  SBUX     27.915   \n",
       "\n",
       "     Return  \n",
       "0       NaN  \n",
       "1 -0.004080  \n",
       "2  0.002138  \n",
       "3 -0.007643  \n",
       "4 -0.005015  "
      ]
     },
     "execution_count": 24,
     "metadata": {},
     "output_type": "execute_result"
    }
   ],
   "source": [
    "df.head()"
   ]
  },
  {
   "cell_type": "markdown",
   "metadata": {},
   "source": [
    "#### Now let's try an LSTM to predict \"returns\""
   ]
  },
  {
   "cell_type": "code",
   "execution_count": 25,
   "metadata": {
    "colab": {
     "base_uri": "https://localhost:8080/",
     "height": 286
    },
    "id": "2caEww0GXddl",
    "outputId": "3b27b78a-f57d-429c-b0bf-c46cece021da"
   },
   "outputs": [
    {
     "data": {
      "text/plain": [
       "<AxesSubplot:>"
      ]
     },
     "execution_count": 25,
     "metadata": {},
     "output_type": "execute_result"
    },
    {
     "data": {
      "image/png": "[encoded data removed]",
      "text/plain": [
       "<Figure size 432x288 with 1 Axes>"
      ]
     },
     "metadata": {},
     "output_type": "display_data"
    }
   ],
   "source": [
    "# Now let's try an LSTM to predict returns\n",
    "df['Return'].hist()"
   ]
  },
  {
   "cell_type": "code",
   "execution_count": 26,
   "metadata": {
    "id": "t0xUTZvFXoHc"
   },
   "outputs": [],
   "source": [
    "series = df['Return'].values[1:].reshape(-1, 1)\n",
    "\n",
    "# Normalize the data\n",
    "# Note: I didn't think about where the true boundary is, this is just approx.\n",
    "scaler = StandardScaler()\n",
    "scaler.fit(series[:len(series) // 2])\n",
    "series = scaler.transform(series).flatten()"
   ]
  },
  {
   "cell_type": "code",
   "execution_count": 27,
   "metadata": {
    "colab": {
     "base_uri": "https://localhost:8080/",
     "height": 34
    },
    "id": "PLNwOWOWX1m9",
    "outputId": "9500d410-468d-4bbf-8747-0db0e105c106"
   },
   "outputs": [
    {
     "name": "stdout",
     "output_type": "stream",
     "text": [
      "X.shape (1248, 10, 1) Y.shape (1248,)\n"
     ]
    }
   ],
   "source": [
    "### build the dataset\n",
    "# let's see if we can use T past values to predict the next value\n",
    "T = 10\n",
    "D = 1\n",
    "X = []\n",
    "Y = []\n",
    "for t in range(len(series) - T):\n",
    "    x = series[t:t+T]\n",
    "    X.append(x)\n",
    "    y = series[t+T]\n",
    "    Y.append(y)\n",
    "\n",
    "X = np.array(X).reshape(-1, T, 1) # Now the data should be N x T x D\n",
    "Y = np.array(Y)\n",
    "N = len(X)\n",
    "print(\"X.shape\", X.shape, \"Y.shape\", Y.shape)"
   ]
  },
  {
   "cell_type": "code",
   "execution_count": 28,
   "metadata": {
    "colab": {
     "base_uri": "https://localhost:8080/",
     "height": 1000
    },
    "id": "F_fhQMaOYAxR",
    "outputId": "9c3f632e-f886-4d05-da4a-c3d00c2f1dca"
   },
   "outputs": [
    {
     "name": "stdout",
     "output_type": "stream",
     "text": [
      "Epoch 1/80\n",
      "20/20 [==============================] - 1s 34ms/step - loss: 1.0084 - val_loss: 1.1491\n",
      "Epoch 2/80\n",
      "20/20 [==============================] - 0s 6ms/step - loss: 0.9860 - val_loss: 1.1503\n",
      "Epoch 3/80\n",
      "20/20 [==============================] - 0s 7ms/step - loss: 0.9883 - val_loss: 1.1477\n",
      "Epoch 4/80\n",
      "20/20 [==============================] - 0s 7ms/step - loss: 0.9842 - val_loss: 1.1521\n",
      "Epoch 5/80\n",
      "20/20 [==============================] - 0s 7ms/step - loss: 0.9822 - val_loss: 1.1473\n",
      "Epoch 6/80\n",
      "20/20 [==============================] - 0s 8ms/step - loss: 0.9839 - val_loss: 1.1551\n",
      "Epoch 7/80\n",
      "20/20 [==============================] - 0s 8ms/step - loss: 0.9829 - val_loss: 1.1457\n",
      "Epoch 8/80\n",
      "20/20 [==============================] - 0s 6ms/step - loss: 0.9826 - val_loss: 1.1649\n",
      "Epoch 9/80\n",
      "20/20 [==============================] - 0s 6ms/step - loss: 0.9855 - val_loss: 1.1531\n",
      "Epoch 10/80\n",
      "20/20 [==============================] - 0s 6ms/step - loss: 0.9800 - val_loss: 1.1550\n",
      "Epoch 11/80\n",
      "20/20 [==============================] - 0s 6ms/step - loss: 0.9770 - val_loss: 1.1551\n",
      "Epoch 12/80\n",
      "20/20 [==============================] - 0s 6ms/step - loss: 0.9761 - val_loss: 1.1505\n",
      "Epoch 13/80\n",
      "20/20 [==============================] - 0s 6ms/step - loss: 0.9832 - val_loss: 1.1587\n",
      "Epoch 14/80\n",
      "20/20 [==============================] - 0s 7ms/step - loss: 0.9783 - val_loss: 1.1627\n",
      "Epoch 15/80\n",
      "20/20 [==============================] - 0s 7ms/step - loss: 0.9748 - val_loss: 1.1522\n",
      "Epoch 16/80\n",
      "20/20 [==============================] - 0s 6ms/step - loss: 0.9692 - val_loss: 1.1649\n",
      "Epoch 17/80\n",
      "20/20 [==============================] - 0s 6ms/step - loss: 0.9726 - val_loss: 1.1533\n",
      "Epoch 18/80\n",
      "20/20 [==============================] - 0s 6ms/step - loss: 0.9686 - val_loss: 1.1590\n",
      "Epoch 19/80\n",
      "20/20 [==============================] - 0s 6ms/step - loss: 0.9691 - val_loss: 1.1658\n",
      "Epoch 20/80\n",
      "20/20 [==============================] - 0s 6ms/step - loss: 0.9657 - val_loss: 1.1616\n",
      "Epoch 21/80\n",
      "20/20 [==============================] - 0s 6ms/step - loss: 0.9651 - val_loss: 1.1652\n",
      "Epoch 22/80\n",
      "20/20 [==============================] - 0s 6ms/step - loss: 0.9579 - val_loss: 1.1818\n",
      "Epoch 23/80\n",
      "20/20 [==============================] - 0s 6ms/step - loss: 0.9550 - val_loss: 1.1740\n",
      "Epoch 24/80\n",
      "20/20 [==============================] - 0s 6ms/step - loss: 0.9572 - val_loss: 1.1934\n",
      "Epoch 25/80\n",
      "20/20 [==============================] - 0s 6ms/step - loss: 0.9564 - val_loss: 1.1851\n",
      "Epoch 26/80\n",
      "20/20 [==============================] - 0s 6ms/step - loss: 0.9512 - val_loss: 1.1990\n",
      "Epoch 27/80\n",
      "20/20 [==============================] - 0s 6ms/step - loss: 0.9552 - val_loss: 1.1992\n",
      "Epoch 28/80\n",
      "20/20 [==============================] - 0s 6ms/step - loss: 0.9416 - val_loss: 1.1876\n",
      "Epoch 29/80\n",
      "20/20 [==============================] - 0s 6ms/step - loss: 0.9400 - val_loss: 1.2175\n",
      "Epoch 30/80\n",
      "20/20 [==============================] - 0s 6ms/step - loss: 0.9385 - val_loss: 1.2032\n",
      "Epoch 31/80\n",
      "20/20 [==============================] - 0s 6ms/step - loss: 0.9325 - val_loss: 1.2112\n",
      "Epoch 32/80\n",
      "20/20 [==============================] - 0s 6ms/step - loss: 0.9302 - val_loss: 1.2072\n",
      "Epoch 33/80\n",
      "20/20 [==============================] - 0s 6ms/step - loss: 0.9256 - val_loss: 1.2294\n",
      "Epoch 34/80\n",
      "20/20 [==============================] - 0s 6ms/step - loss: 0.9268 - val_loss: 1.2252\n",
      "Epoch 35/80\n",
      "20/20 [==============================] - 0s 6ms/step - loss: 0.9173 - val_loss: 1.2188\n",
      "Epoch 36/80\n",
      "20/20 [==============================] - 0s 6ms/step - loss: 0.9156 - val_loss: 1.2307\n",
      "Epoch 37/80\n",
      "20/20 [==============================] - 0s 6ms/step - loss: 0.9239 - val_loss: 1.2513\n",
      "Epoch 38/80\n",
      "20/20 [==============================] - 0s 6ms/step - loss: 0.9121 - val_loss: 1.2155\n",
      "Epoch 39/80\n",
      "20/20 [==============================] - 0s 6ms/step - loss: 0.9108 - val_loss: 1.2339\n",
      "Epoch 40/80\n",
      "20/20 [==============================] - 0s 6ms/step - loss: 0.8970 - val_loss: 1.2561\n",
      "Epoch 41/80\n",
      "20/20 [==============================] - 0s 6ms/step - loss: 0.8932 - val_loss: 1.2575\n",
      "Epoch 42/80\n",
      "20/20 [==============================] - 0s 6ms/step - loss: 0.8950 - val_loss: 1.2698\n",
      "Epoch 43/80\n",
      "20/20 [==============================] - 0s 6ms/step - loss: 0.9085 - val_loss: 1.2946\n",
      "Epoch 44/80\n",
      "20/20 [==============================] - 0s 6ms/step - loss: 0.8977 - val_loss: 1.2587\n",
      "Epoch 45/80\n",
      "20/20 [==============================] - 0s 6ms/step - loss: 0.8862 - val_loss: 1.2743\n",
      "Epoch 46/80\n",
      "20/20 [==============================] - 0s 6ms/step - loss: 0.8806 - val_loss: 1.2848\n",
      "Epoch 47/80\n",
      "20/20 [==============================] - 0s 6ms/step - loss: 0.8699 - val_loss: 1.2714\n",
      "Epoch 48/80\n",
      "20/20 [==============================] - 0s 6ms/step - loss: 0.8757 - val_loss: 1.3096\n",
      "Epoch 49/80\n",
      "20/20 [==============================] - 0s 6ms/step - loss: 0.8572 - val_loss: 1.3000\n",
      "Epoch 50/80\n",
      "20/20 [==============================] - 0s 6ms/step - loss: 0.8649 - val_loss: 1.3212\n",
      "Epoch 51/80\n",
      "20/20 [==============================] - 0s 6ms/step - loss: 0.8686 - val_loss: 1.3181\n",
      "Epoch 52/80\n",
      "20/20 [==============================] - 0s 6ms/step - loss: 0.8602 - val_loss: 1.3076\n",
      "Epoch 53/80\n",
      "20/20 [==============================] - 0s 6ms/step - loss: 0.8796 - val_loss: 1.3718\n",
      "Epoch 54/80\n",
      "20/20 [==============================] - 0s 6ms/step - loss: 0.8602 - val_loss: 1.3016\n",
      "Epoch 55/80\n",
      "20/20 [==============================] - 0s 6ms/step - loss: 0.8509 - val_loss: 1.3595\n",
      "Epoch 56/80\n",
      "20/20 [==============================] - 0s 6ms/step - loss: 0.8454 - val_loss: 1.3517\n",
      "Epoch 57/80\n",
      "20/20 [==============================] - 0s 6ms/step - loss: 0.8424 - val_loss: 1.3808\n",
      "Epoch 58/80\n",
      "20/20 [==============================] - 0s 6ms/step - loss: 0.8532 - val_loss: 1.3543\n",
      "Epoch 59/80\n",
      "20/20 [==============================] - 0s 6ms/step - loss: 0.8400 - val_loss: 1.3624\n",
      "Epoch 60/80\n",
      "20/20 [==============================] - 0s 6ms/step - loss: 0.8359 - val_loss: 1.3825\n",
      "Epoch 61/80\n",
      "20/20 [==============================] - 0s 6ms/step - loss: 0.8350 - val_loss: 1.4536\n",
      "Epoch 62/80\n",
      "20/20 [==============================] - 0s 6ms/step - loss: 0.8450 - val_loss: 1.3455\n",
      "Epoch 63/80\n",
      "20/20 [==============================] - 0s 6ms/step - loss: 0.8544 - val_loss: 1.3901\n",
      "Epoch 64/80\n",
      "20/20 [==============================] - 0s 6ms/step - loss: 0.8332 - val_loss: 1.4075\n",
      "Epoch 65/80\n",
      "20/20 [==============================] - 0s 6ms/step - loss: 0.8289 - val_loss: 1.4647\n",
      "Epoch 66/80\n",
      "20/20 [==============================] - 0s 6ms/step - loss: 0.8302 - val_loss: 1.3915\n",
      "Epoch 67/80\n",
      "20/20 [==============================] - 0s 6ms/step - loss: 0.8304 - val_loss: 1.3560\n",
      "Epoch 68/80\n",
      "20/20 [==============================] - 0s 6ms/step - loss: 0.8504 - val_loss: 1.4050\n",
      "Epoch 69/80\n",
      "20/20 [==============================] - 0s 6ms/step - loss: 0.8291 - val_loss: 1.4915\n",
      "Epoch 70/80\n",
      "20/20 [==============================] - 0s 6ms/step - loss: 0.8321 - val_loss: 1.3520\n",
      "Epoch 71/80\n",
      "20/20 [==============================] - 0s 6ms/step - loss: 0.8291 - val_loss: 1.3889\n",
      "Epoch 72/80\n",
      "20/20 [==============================] - 0s 6ms/step - loss: 0.8189 - val_loss: 1.4679\n",
      "Epoch 73/80\n",
      "20/20 [==============================] - 0s 6ms/step - loss: 0.8169 - val_loss: 1.3995\n",
      "Epoch 74/80\n",
      "20/20 [==============================] - 0s 6ms/step - loss: 0.8194 - val_loss: 1.4574\n",
      "Epoch 75/80\n",
      "20/20 [==============================] - 0s 6ms/step - loss: 0.8074 - val_loss: 1.4240\n",
      "Epoch 76/80\n",
      "20/20 [==============================] - 0s 6ms/step - loss: 0.8081 - val_loss: 1.4104\n",
      "Epoch 77/80\n",
      "20/20 [==============================] - 0s 6ms/step - loss: 0.8143 - val_loss: 1.4113\n",
      "Epoch 78/80\n",
      "20/20 [==============================] - 0s 6ms/step - loss: 0.8059 - val_loss: 1.4335\n",
      "Epoch 79/80\n",
      "20/20 [==============================] - 0s 6ms/step - loss: 0.8044 - val_loss: 1.4233\n",
      "Epoch 80/80\n",
      "20/20 [==============================] - 0s 6ms/step - loss: 0.8017 - val_loss: 1.4520\n"
     ]
    }
   ],
   "source": [
    "### try autoregressive RNN model\n",
    "i = Input(shape=(T, 1))\n",
    "x = LSTM(5)(i)\n",
    "x = Dense(1)(x)\n",
    "model = Model(i, x)\n",
    "model.compile(\n",
    "  loss='mse',\n",
    "  optimizer=Adam(lr=0.01),\n",
    ")\n",
    "\n",
    "# train the RNN\n",
    "r = model.fit(\n",
    "  X[:-N//2], Y[:-N//2],\n",
    "  epochs=80,\n",
    "  validation_data=(X[-N//2:], Y[-N//2:]),\n",
    ")"
   ]
  },
  {
   "cell_type": "code",
   "execution_count": 29,
   "metadata": {
    "colab": {
     "base_uri": "https://localhost:8080/",
     "height": 286
    },
    "id": "-RulDED_YFAQ",
    "outputId": "8eabd461-ff9c-4202-c655-279b0c9519a9"
   },
   "outputs": [
    {
     "data": {
      "text/plain": [
       "<matplotlib.legend.Legend at 0x2a714788a88>"
      ]
     },
     "execution_count": 29,
     "metadata": {},
     "output_type": "execute_result"
    },
    {
     "data": {
      "image/png": "[encoded data removed]",
      "text/plain": [
       "<Figure size 432x288 with 1 Axes>"
      ]
     },
     "metadata": {},
     "output_type": "display_data"
    }
   ],
   "source": [
    "# Plot loss per iteration\n",
    "plt.plot(r.history['loss'], label='loss')\n",
    "plt.plot(r.history['val_loss'], label='val_loss')\n",
    "plt.legend()"
   ]
  },
  {
   "cell_type": "code",
   "execution_count": 30,
   "metadata": {
    "colab": {
     "base_uri": "https://localhost:8080/",
     "height": 286
    },
    "id": "euWSVgj2YFXA",
    "outputId": "89bd5df2-8d9f-4076-c023-2e07500b518c"
   },
   "outputs": [
    {
     "name": "stdout",
     "output_type": "stream",
     "text": [
      "(1248, 1)\n"
     ]
    },
    {
     "data": {
      "image/png": "[encoded data removed]",
      "text/plain": [
       "<Figure size 432x288 with 1 Axes>"
      ]
     },
     "metadata": {},
     "output_type": "display_data"
    }
   ],
   "source": [
    "# One-step forecast using true targets\n",
    "outputs = model.predict(X)\n",
    "print(outputs.shape)\n",
    "predictions = outputs[:,0]\n",
    "\n",
    "plt.plot(Y, label='targets')\n",
    "plt.plot(predictions, label='predictions')\n",
    "plt.legend()\n",
    "plt.show()"
   ]
  },
  {
   "cell_type": "code",
   "execution_count": 31,
   "metadata": {
    "colab": {
     "base_uri": "https://localhost:8080/",
     "height": 286
    },
    "id": "Vqu6ScQrYIWV",
    "outputId": "d944717c-b87f-4f44-971f-9aa16134f885"
   },
   "outputs": [
    {
     "data": {
      "text/plain": [
       "<matplotlib.legend.Legend at 0x2a70f6b00c8>"
      ]
     },
     "execution_count": 31,
     "metadata": {},
     "output_type": "execute_result"
    },
    {
     "data": {
      "image/png": "[encoded data removed]",
      "text/plain": [
       "<Figure size 432x288 with 1 Axes>"
      ]
     },
     "metadata": {},
     "output_type": "display_data"
    }
   ],
   "source": [
    "# Multi-step forecast\n",
    "validation_target = Y[-N//2:]\n",
    "validation_predictions = []\n",
    "\n",
    "# first validation input\n",
    "last_x = X[-N//2] # 1-D array of length T\n",
    "\n",
    "while len(validation_predictions) < len(validation_target):\n",
    "    p = model.predict(last_x.reshape(1, T, 1))[0,0] # 1x1 array -> scalar\n",
    "\n",
    "    # update the predictions list\n",
    "    validation_predictions.append(p)\n",
    "\n",
    "    # make the new input\n",
    "    last_x = np.roll(last_x, -1)\n",
    "    last_x[-1] = p\n",
    "\n",
    "plt.plot(validation_target, label='forecast target')\n",
    "plt.plot(validation_predictions, label='forecast prediction')\n",
    "plt.legend()"
   ]
  },
  {
   "cell_type": "markdown",
   "metadata": {},
   "source": [
    "#### Now turn the full data into numpy arrays"
   ]
  },
  {
   "cell_type": "code",
   "execution_count": 34,
   "metadata": {
    "id": "VwgGvQsDOZ5T"
   },
   "outputs": [
    {
     "data": {
      "text/plain": [
       "(1259, 5)"
      ]
     },
     "execution_count": 34,
     "metadata": {},
     "output_type": "execute_result"
    }
   ],
   "source": [
    "# Now turn the full data into numpy arrays\n",
    "\n",
    "# Not yet in the final \"X\" format!\n",
    "input_data = df[['open', 'high', 'low', 'close', 'volume']].values\n",
    "targets = df['Return'].values\n",
    "\n",
    "input_data.shape"
   ]
  },
  {
   "cell_type": "code",
   "execution_count": 35,
   "metadata": {
    "id": "-sdYhd7mObwI"
   },
   "outputs": [],
   "source": [
    "# Now make the actual data which will go into the neural network\n",
    "T = 10    # the number of time steps to look at to make a prediction for the next day\n",
    "D = input_data.shape[1]\n",
    "N = len(input_data) - T   # (e.g. if T=10 and you have 11 data points then you'd only have 1 sample)"
   ]
  },
  {
   "cell_type": "code",
   "execution_count": 37,
   "metadata": {
    "id": "79CkMlgHOejZ"
   },
   "outputs": [],
   "source": [
    "# normalize the inputs\n",
    "Ntrain = len(input_data) * 2 // 3\n",
    "scaler = StandardScaler()\n",
    "scaler.fit(input_data[:Ntrain + T - 1])\n",
    "input_data = scaler.transform(input_data)"
   ]
  },
  {
   "cell_type": "code",
   "execution_count": 44,
   "metadata": {
    "id": "bfQcj1gpOme2"
   },
   "outputs": [],
   "source": [
    "# Setup X_train and Y_train\n",
    "X_train = np.zeros((Ntrain, T, D))\n",
    "Y_train = np.zeros(Ntrain)\n",
    "\n",
    "for t in range(Ntrain):\n",
    "    X_train[t, :, :] = input_data[t:t+T]\n",
    "    Y_train[t] = (targets[t+T] > 0)"
   ]
  },
  {
   "cell_type": "code",
   "execution_count": 40,
   "metadata": {},
   "outputs": [
    {
     "data": {
      "text/plain": [
       "(839, 10, 5)"
      ]
     },
     "execution_count": 40,
     "metadata": {},
     "output_type": "execute_result"
    }
   ],
   "source": [
    "np.zeros((Ntrain, T, D)).shape"
   ]
  },
  {
   "cell_type": "code",
   "execution_count": 41,
   "metadata": {
    "id": "HhUo6COMOsZi"
   },
   "outputs": [],
   "source": [
    "# Setup X_test and Y_test\n",
    "X_test = np.zeros((N - Ntrain, T, D))\n",
    "Y_test = np.zeros(N - Ntrain)\n",
    "\n",
    "for u in range(N - Ntrain):\n",
    "    # u counts from 0...(N - Ntrain)\n",
    "    # t counts from Ntrain...N\n",
    "    t = u + Ntrain\n",
    "    X_test[u, :, :] = input_data[t:t+T]\n",
    "    Y_test[u] = (targets[t+T] > 0)"
   ]
  },
  {
   "cell_type": "code",
   "execution_count": 42,
   "metadata": {
    "id": "7tBDk_1FRUFt"
   },
   "outputs": [],
   "source": [
    "# make the RNN\n",
    "i = Input(shape=(T, D))\n",
    "x = LSTM(50)(i)\n",
    "x = Dense(1, activation='sigmoid')(x)\n",
    "model = Model(i, x)\n",
    "model.compile(\n",
    "  loss='binary_crossentropy',\n",
    "  optimizer=Adam(lr=0.001),\n",
    "  metrics=['accuracy'],\n",
    ")"
   ]
  },
  {
   "cell_type": "code",
   "execution_count": 45,
   "metadata": {
    "colab": {
     "base_uri": "https://localhost:8080/",
     "height": 1000
    },
    "id": "IQqNykvGRXGz",
    "outputId": "f7a11389-9562-466d-c136-cdc0909099f4"
   },
   "outputs": [
    {
     "name": "stdout",
     "output_type": "stream",
     "text": [
      "Epoch 1/300\n",
      "27/27 [==============================] - 1s 31ms/step - loss: 0.6995 - accuracy: 0.4720 - val_loss: 0.6942 - val_accuracy: 0.4780\n",
      "Epoch 2/300\n",
      "27/27 [==============================] - 0s 6ms/step - loss: 0.6928 - accuracy: 0.5256 - val_loss: 0.6960 - val_accuracy: 0.4976\n",
      "Epoch 3/300\n",
      "27/27 [==============================] - 0s 7ms/step - loss: 0.6927 - accuracy: 0.5232 - val_loss: 0.6967 - val_accuracy: 0.4854\n",
      "Epoch 4/300\n",
      "27/27 [==============================] - 0s 6ms/step - loss: 0.6917 - accuracy: 0.5292 - val_loss: 0.6920 - val_accuracy: 0.5146\n",
      "Epoch 5/300\n",
      "27/27 [==============================] - 0s 7ms/step - loss: 0.6921 - accuracy: 0.5340 - val_loss: 0.6960 - val_accuracy: 0.4927\n",
      "Epoch 6/300\n",
      "27/27 [==============================] - 0s 6ms/step - loss: 0.6906 - accuracy: 0.5328 - val_loss: 0.6902 - val_accuracy: 0.5268\n",
      "Epoch 7/300\n",
      "27/27 [==============================] - 0s 7ms/step - loss: 0.6897 - accuracy: 0.5471 - val_loss: 0.6923 - val_accuracy: 0.5024\n",
      "Epoch 8/300\n",
      "27/27 [==============================] - 0s 7ms/step - loss: 0.6904 - accuracy: 0.5197 - val_loss: 0.6968 - val_accuracy: 0.5024\n",
      "Epoch 9/300\n",
      "27/27 [==============================] - 0s 7ms/step - loss: 0.6891 - accuracy: 0.5232 - val_loss: 0.6906 - val_accuracy: 0.5317\n",
      "Epoch 10/300\n",
      "27/27 [==============================] - 0s 7ms/step - loss: 0.6894 - accuracy: 0.5364 - val_loss: 0.6941 - val_accuracy: 0.4854\n",
      "Epoch 11/300\n",
      "27/27 [==============================] - 0s 6ms/step - loss: 0.6875 - accuracy: 0.5483 - val_loss: 0.6926 - val_accuracy: 0.5049\n",
      "Epoch 12/300\n",
      "27/27 [==============================] - 0s 6ms/step - loss: 0.6909 - accuracy: 0.5423 - val_loss: 0.6891 - val_accuracy: 0.5390\n",
      "Epoch 13/300\n",
      "27/27 [==============================] - 0s 6ms/step - loss: 0.6877 - accuracy: 0.5483 - val_loss: 0.6959 - val_accuracy: 0.5000\n",
      "Epoch 14/300\n",
      "27/27 [==============================] - 0s 7ms/step - loss: 0.6897 - accuracy: 0.5232 - val_loss: 0.6968 - val_accuracy: 0.4976\n",
      "Epoch 15/300\n",
      "27/27 [==============================] - 0s 7ms/step - loss: 0.6867 - accuracy: 0.5435 - val_loss: 0.6931 - val_accuracy: 0.4976\n",
      "Epoch 16/300\n",
      "27/27 [==============================] - 0s 6ms/step - loss: 0.6877 - accuracy: 0.5387 - val_loss: 0.6948 - val_accuracy: 0.4927\n",
      "Epoch 17/300\n",
      "27/27 [==============================] - 0s 7ms/step - loss: 0.6872 - accuracy: 0.5566 - val_loss: 0.6923 - val_accuracy: 0.5268\n",
      "Epoch 18/300\n",
      "27/27 [==============================] - 0s 6ms/step - loss: 0.6868 - accuracy: 0.5387 - val_loss: 0.6908 - val_accuracy: 0.5463\n",
      "Epoch 19/300\n",
      "27/27 [==============================] - 0s 7ms/step - loss: 0.6859 - accuracy: 0.5602 - val_loss: 0.6949 - val_accuracy: 0.4927\n",
      "Epoch 20/300\n",
      "27/27 [==============================] - 0s 6ms/step - loss: 0.6856 - accuracy: 0.5602 - val_loss: 0.6968 - val_accuracy: 0.4951\n",
      "Epoch 21/300\n",
      "27/27 [==============================] - 0s 7ms/step - loss: 0.6849 - accuracy: 0.5471 - val_loss: 0.6941 - val_accuracy: 0.5195\n",
      "Epoch 22/300\n",
      "27/27 [==============================] - 0s 7ms/step - loss: 0.6851 - accuracy: 0.5435 - val_loss: 0.6934 - val_accuracy: 0.5268\n",
      "Epoch 23/300\n",
      "27/27 [==============================] - 0s 6ms/step - loss: 0.6853 - accuracy: 0.5518 - val_loss: 0.6944 - val_accuracy: 0.5220\n",
      "Epoch 24/300\n",
      "27/27 [==============================] - 0s 6ms/step - loss: 0.6835 - accuracy: 0.5542 - val_loss: 0.6963 - val_accuracy: 0.5146\n",
      "Epoch 25/300\n",
      "27/27 [==============================] - 0s 6ms/step - loss: 0.6837 - accuracy: 0.5495 - val_loss: 0.6915 - val_accuracy: 0.5488\n",
      "Epoch 26/300\n",
      "27/27 [==============================] - 0s 6ms/step - loss: 0.6862 - accuracy: 0.5578 - val_loss: 0.7070 - val_accuracy: 0.5000\n",
      "Epoch 27/300\n",
      "27/27 [==============================] - 0s 6ms/step - loss: 0.6826 - accuracy: 0.5602 - val_loss: 0.6931 - val_accuracy: 0.5415\n",
      "Epoch 28/300\n",
      "27/27 [==============================] - 0s 7ms/step - loss: 0.6824 - accuracy: 0.5709 - val_loss: 0.6999 - val_accuracy: 0.4829\n",
      "Epoch 29/300\n",
      "27/27 [==============================] - 0s 7ms/step - loss: 0.6819 - accuracy: 0.5828 - val_loss: 0.6968 - val_accuracy: 0.5244\n",
      "Epoch 30/300\n",
      "27/27 [==============================] - 0s 6ms/step - loss: 0.6837 - accuracy: 0.5578 - val_loss: 0.7025 - val_accuracy: 0.4707\n",
      "Epoch 31/300\n",
      "27/27 [==============================] - 0s 7ms/step - loss: 0.6824 - accuracy: 0.5554 - val_loss: 0.6979 - val_accuracy: 0.5073\n",
      "Epoch 32/300\n",
      "27/27 [==============================] - 0s 7ms/step - loss: 0.6810 - accuracy: 0.5685 - val_loss: 0.6988 - val_accuracy: 0.5098\n",
      "Epoch 33/300\n",
      "27/27 [==============================] - 0s 7ms/step - loss: 0.6825 - accuracy: 0.5638 - val_loss: 0.6959 - val_accuracy: 0.5293\n",
      "Epoch 34/300\n",
      "27/27 [==============================] - 0s 6ms/step - loss: 0.6802 - accuracy: 0.5650 - val_loss: 0.6969 - val_accuracy: 0.5293\n",
      "Epoch 35/300\n",
      "27/27 [==============================] - 0s 6ms/step - loss: 0.6805 - accuracy: 0.5721 - val_loss: 0.6946 - val_accuracy: 0.5390\n",
      "Epoch 36/300\n",
      "27/27 [==============================] - 0s 6ms/step - loss: 0.6800 - accuracy: 0.5626 - val_loss: 0.6948 - val_accuracy: 0.5317\n",
      "Epoch 37/300\n",
      "27/27 [==============================] - 0s 7ms/step - loss: 0.6805 - accuracy: 0.5554 - val_loss: 0.6992 - val_accuracy: 0.5000\n",
      "Epoch 38/300\n",
      "27/27 [==============================] - 0s 6ms/step - loss: 0.6791 - accuracy: 0.5733 - val_loss: 0.6955 - val_accuracy: 0.5366\n",
      "Epoch 39/300\n",
      "27/27 [==============================] - 0s 6ms/step - loss: 0.6795 - accuracy: 0.5757 - val_loss: 0.6946 - val_accuracy: 0.5390\n",
      "Epoch 40/300\n",
      "27/27 [==============================] - 0s 6ms/step - loss: 0.6782 - accuracy: 0.5709 - val_loss: 0.6970 - val_accuracy: 0.5341\n",
      "Epoch 41/300\n",
      "27/27 [==============================] - 0s 7ms/step - loss: 0.6776 - accuracy: 0.5721 - val_loss: 0.7004 - val_accuracy: 0.5098\n",
      "Epoch 42/300\n",
      "27/27 [==============================] - 0s 7ms/step - loss: 0.6768 - accuracy: 0.5614 - val_loss: 0.6995 - val_accuracy: 0.5073\n",
      "Epoch 43/300\n",
      "27/27 [==============================] - 0s 7ms/step - loss: 0.6757 - accuracy: 0.5733 - val_loss: 0.6960 - val_accuracy: 0.5317\n",
      "Epoch 44/300\n",
      "27/27 [==============================] - 0s 7ms/step - loss: 0.6758 - accuracy: 0.5793 - val_loss: 0.6987 - val_accuracy: 0.5098\n",
      "Epoch 45/300\n",
      "27/27 [==============================] - 0s 6ms/step - loss: 0.6737 - accuracy: 0.5626 - val_loss: 0.6992 - val_accuracy: 0.5049\n",
      "Epoch 46/300\n",
      "27/27 [==============================] - 0s 6ms/step - loss: 0.6764 - accuracy: 0.5709 - val_loss: 0.7007 - val_accuracy: 0.5024\n",
      "Epoch 47/300\n",
      "27/27 [==============================] - 0s 7ms/step - loss: 0.6727 - accuracy: 0.5709 - val_loss: 0.6965 - val_accuracy: 0.5220\n",
      "Epoch 48/300\n",
      "27/27 [==============================] - 0s 7ms/step - loss: 0.6733 - accuracy: 0.5757 - val_loss: 0.6980 - val_accuracy: 0.5098\n",
      "Epoch 49/300\n",
      "27/27 [==============================] - 0s 7ms/step - loss: 0.6723 - accuracy: 0.5483 - val_loss: 0.7012 - val_accuracy: 0.5049\n",
      "Epoch 50/300\n",
      "27/27 [==============================] - 0s 7ms/step - loss: 0.6739 - accuracy: 0.5709 - val_loss: 0.6975 - val_accuracy: 0.5073\n",
      "Epoch 51/300\n",
      "27/27 [==============================] - 0s 7ms/step - loss: 0.6751 - accuracy: 0.5673 - val_loss: 0.7108 - val_accuracy: 0.5073\n",
      "Epoch 52/300\n",
      "27/27 [==============================] - 0s 7ms/step - loss: 0.6734 - accuracy: 0.5876 - val_loss: 0.6977 - val_accuracy: 0.5098\n",
      "Epoch 53/300\n",
      "27/27 [==============================] - 0s 7ms/step - loss: 0.6692 - accuracy: 0.5650 - val_loss: 0.7027 - val_accuracy: 0.4780\n",
      "Epoch 54/300\n",
      "27/27 [==============================] - 0s 7ms/step - loss: 0.6699 - accuracy: 0.5781 - val_loss: 0.7001 - val_accuracy: 0.4902\n",
      "Epoch 55/300\n",
      "27/27 [==============================] - 0s 7ms/step - loss: 0.6686 - accuracy: 0.5769 - val_loss: 0.7028 - val_accuracy: 0.4829\n",
      "Epoch 56/300\n",
      "27/27 [==============================] - 0s 7ms/step - loss: 0.6682 - accuracy: 0.5757 - val_loss: 0.7029 - val_accuracy: 0.4927\n",
      "Epoch 57/300\n",
      "27/27 [==============================] - 0s 7ms/step - loss: 0.6688 - accuracy: 0.5793 - val_loss: 0.6989 - val_accuracy: 0.5000\n",
      "Epoch 58/300\n",
      "27/27 [==============================] - 0s 7ms/step - loss: 0.6675 - accuracy: 0.5816 - val_loss: 0.7035 - val_accuracy: 0.4854\n"
     ]
    },
    {
     "name": "stdout",
     "output_type": "stream",
     "text": [
      "Epoch 59/300\n",
      "27/27 [==============================] - 0s 6ms/step - loss: 0.6684 - accuracy: 0.5673 - val_loss: 0.7055 - val_accuracy: 0.4976\n",
      "Epoch 60/300\n",
      "27/27 [==============================] - 0s 6ms/step - loss: 0.6677 - accuracy: 0.5840 - val_loss: 0.7069 - val_accuracy: 0.4902\n",
      "Epoch 61/300\n",
      "27/27 [==============================] - 0s 6ms/step - loss: 0.6650 - accuracy: 0.5769 - val_loss: 0.7004 - val_accuracy: 0.4927\n",
      "Epoch 62/300\n",
      "27/27 [==============================] - 0s 6ms/step - loss: 0.6630 - accuracy: 0.5840 - val_loss: 0.7068 - val_accuracy: 0.4878\n",
      "Epoch 63/300\n",
      "27/27 [==============================] - 0s 7ms/step - loss: 0.6632 - accuracy: 0.5864 - val_loss: 0.7035 - val_accuracy: 0.5024\n",
      "Epoch 64/300\n",
      "27/27 [==============================] - 0s 6ms/step - loss: 0.6648 - accuracy: 0.5757 - val_loss: 0.7029 - val_accuracy: 0.4927\n",
      "Epoch 65/300\n",
      "27/27 [==============================] - 0s 6ms/step - loss: 0.6633 - accuracy: 0.5888 - val_loss: 0.7055 - val_accuracy: 0.4976\n",
      "Epoch 66/300\n",
      "27/27 [==============================] - 0s 6ms/step - loss: 0.6610 - accuracy: 0.5864 - val_loss: 0.7065 - val_accuracy: 0.4829\n",
      "Epoch 67/300\n",
      "27/27 [==============================] - 0s 6ms/step - loss: 0.6599 - accuracy: 0.5912 - val_loss: 0.7068 - val_accuracy: 0.4805\n",
      "Epoch 68/300\n",
      "27/27 [==============================] - 0s 6ms/step - loss: 0.6606 - accuracy: 0.5805 - val_loss: 0.7085 - val_accuracy: 0.4854\n",
      "Epoch 69/300\n",
      "27/27 [==============================] - 0s 6ms/step - loss: 0.6619 - accuracy: 0.5793 - val_loss: 0.7116 - val_accuracy: 0.4878\n",
      "Epoch 70/300\n",
      "27/27 [==============================] - 0s 6ms/step - loss: 0.6585 - accuracy: 0.5900 - val_loss: 0.7110 - val_accuracy: 0.4756\n",
      "Epoch 71/300\n",
      "27/27 [==============================] - 0s 6ms/step - loss: 0.6556 - accuracy: 0.5971 - val_loss: 0.7110 - val_accuracy: 0.4829\n",
      "Epoch 72/300\n",
      "27/27 [==============================] - 0s 6ms/step - loss: 0.6577 - accuracy: 0.5924 - val_loss: 0.7155 - val_accuracy: 0.4756\n",
      "Epoch 73/300\n",
      "27/27 [==============================] - 0s 6ms/step - loss: 0.6564 - accuracy: 0.6031 - val_loss: 0.7200 - val_accuracy: 0.4854\n",
      "Epoch 74/300\n",
      "27/27 [==============================] - 0s 6ms/step - loss: 0.6542 - accuracy: 0.5805 - val_loss: 0.7137 - val_accuracy: 0.4854\n",
      "Epoch 75/300\n",
      "27/27 [==============================] - 0s 7ms/step - loss: 0.6509 - accuracy: 0.5948 - val_loss: 0.7168 - val_accuracy: 0.4732\n",
      "Epoch 76/300\n",
      "27/27 [==============================] - 0s 6ms/step - loss: 0.6543 - accuracy: 0.5912 - val_loss: 0.7178 - val_accuracy: 0.4780\n",
      "Epoch 77/300\n",
      "27/27 [==============================] - 0s 6ms/step - loss: 0.6521 - accuracy: 0.6031 - val_loss: 0.7194 - val_accuracy: 0.4732\n",
      "Epoch 78/300\n",
      "27/27 [==============================] - 0s 6ms/step - loss: 0.6512 - accuracy: 0.6091 - val_loss: 0.7170 - val_accuracy: 0.4780\n",
      "Epoch 79/300\n",
      "27/27 [==============================] - 0s 6ms/step - loss: 0.6469 - accuracy: 0.6031 - val_loss: 0.7260 - val_accuracy: 0.4780\n",
      "Epoch 80/300\n",
      "27/27 [==============================] - 0s 6ms/step - loss: 0.6484 - accuracy: 0.6019 - val_loss: 0.7161 - val_accuracy: 0.4683\n",
      "Epoch 81/300\n",
      "27/27 [==============================] - 0s 6ms/step - loss: 0.6441 - accuracy: 0.6150 - val_loss: 0.7210 - val_accuracy: 0.4610\n",
      "Epoch 82/300\n",
      "27/27 [==============================] - 0s 7ms/step - loss: 0.6439 - accuracy: 0.6114 - val_loss: 0.7210 - val_accuracy: 0.4707\n",
      "Epoch 83/300\n",
      "27/27 [==============================] - 0s 6ms/step - loss: 0.6416 - accuracy: 0.6222 - val_loss: 0.7243 - val_accuracy: 0.4707\n",
      "Epoch 84/300\n",
      "27/27 [==============================] - 0s 6ms/step - loss: 0.6426 - accuracy: 0.6055 - val_loss: 0.7163 - val_accuracy: 0.4829\n",
      "Epoch 85/300\n",
      "27/27 [==============================] - 0s 6ms/step - loss: 0.6412 - accuracy: 0.6126 - val_loss: 0.7250 - val_accuracy: 0.4732\n",
      "Epoch 86/300\n",
      "27/27 [==============================] - 0s 6ms/step - loss: 0.6397 - accuracy: 0.6138 - val_loss: 0.7215 - val_accuracy: 0.4634\n",
      "Epoch 87/300\n",
      "27/27 [==============================] - 0s 6ms/step - loss: 0.6385 - accuracy: 0.6103 - val_loss: 0.7223 - val_accuracy: 0.4610\n",
      "Epoch 88/300\n",
      "27/27 [==============================] - 0s 6ms/step - loss: 0.6378 - accuracy: 0.6079 - val_loss: 0.7291 - val_accuracy: 0.4780\n",
      "Epoch 89/300\n",
      "27/27 [==============================] - 0s 6ms/step - loss: 0.6352 - accuracy: 0.6246 - val_loss: 0.7335 - val_accuracy: 0.4683\n",
      "Epoch 90/300\n",
      "27/27 [==============================] - 0s 6ms/step - loss: 0.6304 - accuracy: 0.6365 - val_loss: 0.7281 - val_accuracy: 0.4780\n",
      "Epoch 91/300\n",
      "27/27 [==============================] - 0s 6ms/step - loss: 0.6301 - accuracy: 0.6269 - val_loss: 0.7299 - val_accuracy: 0.4756\n",
      "Epoch 92/300\n",
      "27/27 [==============================] - 0s 6ms/step - loss: 0.6282 - accuracy: 0.6210 - val_loss: 0.7326 - val_accuracy: 0.4805\n",
      "Epoch 93/300\n",
      "27/27 [==============================] - 0s 6ms/step - loss: 0.6249 - accuracy: 0.6329 - val_loss: 0.7366 - val_accuracy: 0.4707\n",
      "Epoch 94/300\n",
      "27/27 [==============================] - 0s 6ms/step - loss: 0.6252 - accuracy: 0.6305 - val_loss: 0.7434 - val_accuracy: 0.4561\n",
      "Epoch 95/300\n",
      "27/27 [==============================] - 0s 6ms/step - loss: 0.6223 - accuracy: 0.6305 - val_loss: 0.7351 - val_accuracy: 0.4610\n",
      "Epoch 96/300\n",
      "27/27 [==============================] - 0s 7ms/step - loss: 0.6246 - accuracy: 0.6424 - val_loss: 0.7311 - val_accuracy: 0.4805\n",
      "Epoch 97/300\n",
      "27/27 [==============================] - 0s 7ms/step - loss: 0.6208 - accuracy: 0.6317 - val_loss: 0.7343 - val_accuracy: 0.4659\n",
      "Epoch 98/300\n",
      "27/27 [==============================] - 0s 7ms/step - loss: 0.6162 - accuracy: 0.6353 - val_loss: 0.7412 - val_accuracy: 0.4683\n",
      "Epoch 99/300\n",
      "27/27 [==============================] - 0s 7ms/step - loss: 0.6135 - accuracy: 0.6341 - val_loss: 0.7439 - val_accuracy: 0.4732\n",
      "Epoch 100/300\n",
      "27/27 [==============================] - 0s 7ms/step - loss: 0.6211 - accuracy: 0.6257 - val_loss: 0.7479 - val_accuracy: 0.4537\n",
      "Epoch 101/300\n",
      "27/27 [==============================] - 0s 7ms/step - loss: 0.6114 - accuracy: 0.6520 - val_loss: 0.7494 - val_accuracy: 0.4780\n",
      "Epoch 102/300\n",
      "27/27 [==============================] - 0s 7ms/step - loss: 0.6102 - accuracy: 0.6424 - val_loss: 0.7498 - val_accuracy: 0.4561\n",
      "Epoch 103/300\n",
      "27/27 [==============================] - 0s 7ms/step - loss: 0.6081 - accuracy: 0.6472 - val_loss: 0.7561 - val_accuracy: 0.4585\n",
      "Epoch 104/300\n",
      "27/27 [==============================] - 0s 7ms/step - loss: 0.6048 - accuracy: 0.6448 - val_loss: 0.7497 - val_accuracy: 0.4585\n",
      "Epoch 105/300\n",
      "27/27 [==============================] - 0s 7ms/step - loss: 0.5994 - accuracy: 0.6782 - val_loss: 0.7568 - val_accuracy: 0.4829\n",
      "Epoch 106/300\n",
      "27/27 [==============================] - 0s 7ms/step - loss: 0.6001 - accuracy: 0.6567 - val_loss: 0.7572 - val_accuracy: 0.4659\n",
      "Epoch 107/300\n",
      "27/27 [==============================] - 0s 7ms/step - loss: 0.5954 - accuracy: 0.6615 - val_loss: 0.7613 - val_accuracy: 0.4512\n",
      "Epoch 108/300\n",
      "27/27 [==============================] - 0s 7ms/step - loss: 0.5968 - accuracy: 0.6496 - val_loss: 0.7642 - val_accuracy: 0.4683\n",
      "Epoch 109/300\n",
      "27/27 [==============================] - 0s 7ms/step - loss: 0.5891 - accuracy: 0.6675 - val_loss: 0.7625 - val_accuracy: 0.4756\n",
      "Epoch 110/300\n",
      "27/27 [==============================] - 0s 7ms/step - loss: 0.5872 - accuracy: 0.6639 - val_loss: 0.7657 - val_accuracy: 0.4732\n",
      "Epoch 111/300\n",
      "27/27 [==============================] - 0s 7ms/step - loss: 0.5861 - accuracy: 0.6865 - val_loss: 0.7629 - val_accuracy: 0.4927\n",
      "Epoch 112/300\n",
      "27/27 [==============================] - 0s 7ms/step - loss: 0.5841 - accuracy: 0.6794 - val_loss: 0.7709 - val_accuracy: 0.4829\n",
      "Epoch 113/300\n",
      "27/27 [==============================] - 0s 7ms/step - loss: 0.5833 - accuracy: 0.6639 - val_loss: 0.7637 - val_accuracy: 0.4927\n",
      "Epoch 114/300\n",
      "27/27 [==============================] - 0s 7ms/step - loss: 0.6055 - accuracy: 0.6579 - val_loss: 0.7711 - val_accuracy: 0.4927\n",
      "Epoch 115/300\n",
      "27/27 [==============================] - 0s 7ms/step - loss: 0.5943 - accuracy: 0.6746 - val_loss: 0.7795 - val_accuracy: 0.4854\n",
      "Epoch 116/300\n"
     ]
    },
    {
     "name": "stdout",
     "output_type": "stream",
     "text": [
      "27/27 [==============================] - 0s 7ms/step - loss: 0.5777 - accuracy: 0.6853 - val_loss: 0.7846 - val_accuracy: 0.4659\n",
      "Epoch 117/300\n",
      "27/27 [==============================] - 0s 7ms/step - loss: 0.5801 - accuracy: 0.6841 - val_loss: 0.7836 - val_accuracy: 0.4829\n",
      "Epoch 118/300\n",
      "27/27 [==============================] - 0s 7ms/step - loss: 0.5736 - accuracy: 0.6710 - val_loss: 0.7768 - val_accuracy: 0.4829\n",
      "Epoch 119/300\n",
      "27/27 [==============================] - 0s 7ms/step - loss: 0.5692 - accuracy: 0.6865 - val_loss: 0.7747 - val_accuracy: 0.4951\n",
      "Epoch 120/300\n",
      "27/27 [==============================] - 0s 6ms/step - loss: 0.5695 - accuracy: 0.6794 - val_loss: 0.7750 - val_accuracy: 0.4756\n",
      "Epoch 121/300\n",
      "27/27 [==============================] - 0s 6ms/step - loss: 0.5666 - accuracy: 0.6830 - val_loss: 0.7830 - val_accuracy: 0.4878\n",
      "Epoch 122/300\n",
      "27/27 [==============================] - 0s 6ms/step - loss: 0.5589 - accuracy: 0.6889 - val_loss: 0.7764 - val_accuracy: 0.4902\n",
      "Epoch 123/300\n",
      "27/27 [==============================] - 0s 7ms/step - loss: 0.5601 - accuracy: 0.6949 - val_loss: 0.7934 - val_accuracy: 0.4634\n",
      "Epoch 124/300\n",
      "27/27 [==============================] - 0s 6ms/step - loss: 0.5610 - accuracy: 0.6901 - val_loss: 0.7853 - val_accuracy: 0.4805\n",
      "Epoch 125/300\n",
      "27/27 [==============================] - 0s 6ms/step - loss: 0.5509 - accuracy: 0.7008 - val_loss: 0.7866 - val_accuracy: 0.5049\n",
      "Epoch 126/300\n",
      "27/27 [==============================] - 0s 6ms/step - loss: 0.5488 - accuracy: 0.7092 - val_loss: 0.7968 - val_accuracy: 0.4829\n",
      "Epoch 127/300\n",
      "27/27 [==============================] - 0s 6ms/step - loss: 0.5487 - accuracy: 0.7044 - val_loss: 0.7889 - val_accuracy: 0.4829\n",
      "Epoch 128/300\n",
      "27/27 [==============================] - 0s 6ms/step - loss: 0.5506 - accuracy: 0.6806 - val_loss: 0.7908 - val_accuracy: 0.4878\n",
      "Epoch 129/300\n",
      "27/27 [==============================] - 0s 6ms/step - loss: 0.5486 - accuracy: 0.6913 - val_loss: 0.7915 - val_accuracy: 0.5000\n",
      "Epoch 130/300\n",
      "27/27 [==============================] - 0s 6ms/step - loss: 0.5376 - accuracy: 0.7199 - val_loss: 0.7947 - val_accuracy: 0.4927\n",
      "Epoch 131/300\n",
      "27/27 [==============================] - 0s 6ms/step - loss: 0.5330 - accuracy: 0.7080 - val_loss: 0.7973 - val_accuracy: 0.5049\n",
      "Epoch 132/300\n",
      "27/27 [==============================] - 0s 6ms/step - loss: 0.5364 - accuracy: 0.7032 - val_loss: 0.8035 - val_accuracy: 0.4780\n",
      "Epoch 133/300\n",
      "27/27 [==============================] - 0s 6ms/step - loss: 0.5322 - accuracy: 0.7056 - val_loss: 0.7873 - val_accuracy: 0.5073\n",
      "Epoch 134/300\n",
      "27/27 [==============================] - 0s 6ms/step - loss: 0.5264 - accuracy: 0.7211 - val_loss: 0.7988 - val_accuracy: 0.5073\n",
      "Epoch 135/300\n",
      "27/27 [==============================] - 0s 6ms/step - loss: 0.5239 - accuracy: 0.7199 - val_loss: 0.7936 - val_accuracy: 0.4854\n",
      "Epoch 136/300\n",
      "27/27 [==============================] - 0s 6ms/step - loss: 0.5215 - accuracy: 0.7223 - val_loss: 0.7997 - val_accuracy: 0.5049\n",
      "Epoch 137/300\n",
      "27/27 [==============================] - 0s 6ms/step - loss: 0.5202 - accuracy: 0.7163 - val_loss: 0.7972 - val_accuracy: 0.4878\n",
      "Epoch 138/300\n",
      "27/27 [==============================] - 0s 6ms/step - loss: 0.5157 - accuracy: 0.7211 - val_loss: 0.8142 - val_accuracy: 0.4976\n",
      "Epoch 139/300\n",
      "27/27 [==============================] - 0s 6ms/step - loss: 0.5077 - accuracy: 0.7223 - val_loss: 0.8012 - val_accuracy: 0.4878\n",
      "Epoch 140/300\n",
      "27/27 [==============================] - 0s 6ms/step - loss: 0.5096 - accuracy: 0.7259 - val_loss: 0.8121 - val_accuracy: 0.5171\n",
      "Epoch 141/300\n",
      "27/27 [==============================] - 0s 6ms/step - loss: 0.5004 - accuracy: 0.7271 - val_loss: 0.8173 - val_accuracy: 0.4951\n",
      "Epoch 142/300\n",
      "27/27 [==============================] - 0s 6ms/step - loss: 0.4995 - accuracy: 0.7259 - val_loss: 0.8155 - val_accuracy: 0.5122\n",
      "Epoch 143/300\n",
      "27/27 [==============================] - 0s 6ms/step - loss: 0.4965 - accuracy: 0.7318 - val_loss: 0.8140 - val_accuracy: 0.5049\n",
      "Epoch 144/300\n",
      "27/27 [==============================] - 0s 6ms/step - loss: 0.5006 - accuracy: 0.7402 - val_loss: 0.8257 - val_accuracy: 0.5049\n",
      "Epoch 145/300\n",
      "27/27 [==============================] - 0s 6ms/step - loss: 0.4891 - accuracy: 0.7414 - val_loss: 0.8143 - val_accuracy: 0.5024\n",
      "Epoch 146/300\n",
      "27/27 [==============================] - 0s 6ms/step - loss: 0.4932 - accuracy: 0.7461 - val_loss: 0.8209 - val_accuracy: 0.5122\n",
      "Epoch 147/300\n",
      "27/27 [==============================] - 0s 6ms/step - loss: 0.4878 - accuracy: 0.7449 - val_loss: 0.8272 - val_accuracy: 0.5171\n",
      "Epoch 148/300\n",
      "27/27 [==============================] - 0s 6ms/step - loss: 0.4812 - accuracy: 0.7521 - val_loss: 0.8374 - val_accuracy: 0.4976\n",
      "Epoch 149/300\n",
      "27/27 [==============================] - 0s 6ms/step - loss: 0.4790 - accuracy: 0.7557 - val_loss: 0.8168 - val_accuracy: 0.5195\n",
      "Epoch 150/300\n",
      "27/27 [==============================] - 0s 6ms/step - loss: 0.4771 - accuracy: 0.7569 - val_loss: 0.8286 - val_accuracy: 0.5098\n",
      "Epoch 151/300\n",
      "27/27 [==============================] - 0s 6ms/step - loss: 0.4879 - accuracy: 0.7473 - val_loss: 0.8311 - val_accuracy: 0.4927\n",
      "Epoch 152/300\n",
      "27/27 [==============================] - 0s 6ms/step - loss: 0.4784 - accuracy: 0.7545 - val_loss: 0.8373 - val_accuracy: 0.5293\n",
      "Epoch 153/300\n",
      "27/27 [==============================] - 0s 6ms/step - loss: 0.4719 - accuracy: 0.7604 - val_loss: 0.8499 - val_accuracy: 0.5073\n",
      "Epoch 154/300\n",
      "27/27 [==============================] - 0s 6ms/step - loss: 0.4726 - accuracy: 0.7652 - val_loss: 0.8371 - val_accuracy: 0.5220\n",
      "Epoch 155/300\n",
      "27/27 [==============================] - 0s 6ms/step - loss: 0.4597 - accuracy: 0.7700 - val_loss: 0.8390 - val_accuracy: 0.5220\n",
      "Epoch 156/300\n",
      "27/27 [==============================] - 0s 6ms/step - loss: 0.4589 - accuracy: 0.7759 - val_loss: 0.8397 - val_accuracy: 0.5293\n",
      "Epoch 157/300\n",
      "27/27 [==============================] - 0s 6ms/step - loss: 0.4540 - accuracy: 0.7676 - val_loss: 0.8490 - val_accuracy: 0.5293\n",
      "Epoch 158/300\n",
      "27/27 [==============================] - 0s 6ms/step - loss: 0.4525 - accuracy: 0.7807 - val_loss: 0.8530 - val_accuracy: 0.5341\n",
      "Epoch 159/300\n",
      "27/27 [==============================] - 0s 6ms/step - loss: 0.4479 - accuracy: 0.7771 - val_loss: 0.8471 - val_accuracy: 0.5220\n",
      "Epoch 160/300\n",
      "27/27 [==============================] - 0s 6ms/step - loss: 0.4422 - accuracy: 0.7819 - val_loss: 0.8644 - val_accuracy: 0.5195\n",
      "Epoch 161/300\n",
      "27/27 [==============================] - 0s 7ms/step - loss: 0.4414 - accuracy: 0.7759 - val_loss: 0.8540 - val_accuracy: 0.5390\n",
      "Epoch 162/300\n",
      "27/27 [==============================] - 0s 6ms/step - loss: 0.4388 - accuracy: 0.7855 - val_loss: 0.8696 - val_accuracy: 0.5244\n",
      "Epoch 163/300\n",
      "27/27 [==============================] - 0s 6ms/step - loss: 0.4410 - accuracy: 0.7759 - val_loss: 0.8587 - val_accuracy: 0.5293\n",
      "Epoch 164/300\n",
      "27/27 [==============================] - 0s 6ms/step - loss: 0.4422 - accuracy: 0.7700 - val_loss: 0.8659 - val_accuracy: 0.5073\n",
      "Epoch 165/300\n",
      "27/27 [==============================] - 0s 6ms/step - loss: 0.4389 - accuracy: 0.7867 - val_loss: 0.8827 - val_accuracy: 0.5171\n",
      "Epoch 166/300\n",
      "27/27 [==============================] - 0s 6ms/step - loss: 0.4297 - accuracy: 0.7890 - val_loss: 0.8696 - val_accuracy: 0.5317\n",
      "Epoch 167/300\n",
      "27/27 [==============================] - 0s 6ms/step - loss: 0.4281 - accuracy: 0.7926 - val_loss: 0.8701 - val_accuracy: 0.5293\n",
      "Epoch 168/300\n",
      "27/27 [==============================] - 0s 6ms/step - loss: 0.4200 - accuracy: 0.7938 - val_loss: 0.8696 - val_accuracy: 0.5268\n",
      "Epoch 169/300\n",
      "27/27 [==============================] - 0s 6ms/step - loss: 0.4178 - accuracy: 0.7890 - val_loss: 0.8786 - val_accuracy: 0.5244\n",
      "Epoch 170/300\n",
      "27/27 [==============================] - 0s 7ms/step - loss: 0.4214 - accuracy: 0.7926 - val_loss: 0.8839 - val_accuracy: 0.5293\n",
      "Epoch 171/300\n",
      "27/27 [==============================] - 0s 6ms/step - loss: 0.4143 - accuracy: 0.7962 - val_loss: 0.8830 - val_accuracy: 0.5317\n",
      "Epoch 172/300\n",
      "27/27 [==============================] - 0s 6ms/step - loss: 0.4147 - accuracy: 0.7974 - val_loss: 0.8855 - val_accuracy: 0.5293\n",
      "Epoch 173/300\n"
     ]
    },
    {
     "name": "stdout",
     "output_type": "stream",
     "text": [
      "27/27 [==============================] - 0s 6ms/step - loss: 0.4104 - accuracy: 0.8010 - val_loss: 0.8840 - val_accuracy: 0.5146\n",
      "Epoch 174/300\n",
      "27/27 [==============================] - 0s 6ms/step - loss: 0.4115 - accuracy: 0.7950 - val_loss: 0.8944 - val_accuracy: 0.5244\n",
      "Epoch 175/300\n",
      "27/27 [==============================] - 0s 6ms/step - loss: 0.3991 - accuracy: 0.8093 - val_loss: 0.8844 - val_accuracy: 0.5220\n",
      "Epoch 176/300\n",
      "27/27 [==============================] - 0s 6ms/step - loss: 0.4058 - accuracy: 0.7950 - val_loss: 0.8916 - val_accuracy: 0.5317\n",
      "Epoch 177/300\n",
      "27/27 [==============================] - 0s 6ms/step - loss: 0.3971 - accuracy: 0.8045 - val_loss: 0.9196 - val_accuracy: 0.5317\n",
      "Epoch 178/300\n",
      "27/27 [==============================] - 0s 6ms/step - loss: 0.3908 - accuracy: 0.8188 - val_loss: 0.9028 - val_accuracy: 0.5244\n",
      "Epoch 179/300\n",
      "27/27 [==============================] - 0s 7ms/step - loss: 0.3868 - accuracy: 0.8260 - val_loss: 0.9194 - val_accuracy: 0.5293\n",
      "Epoch 180/300\n",
      "27/27 [==============================] - 0s 6ms/step - loss: 0.3825 - accuracy: 0.8176 - val_loss: 0.9172 - val_accuracy: 0.5195\n",
      "Epoch 181/300\n",
      "27/27 [==============================] - 0s 6ms/step - loss: 0.3793 - accuracy: 0.8248 - val_loss: 0.9147 - val_accuracy: 0.5244\n",
      "Epoch 182/300\n",
      "27/27 [==============================] - 0s 6ms/step - loss: 0.3806 - accuracy: 0.8188 - val_loss: 0.9251 - val_accuracy: 0.5293\n",
      "Epoch 183/300\n",
      "27/27 [==============================] - 0s 6ms/step - loss: 0.3758 - accuracy: 0.8164 - val_loss: 0.9195 - val_accuracy: 0.5390\n",
      "Epoch 184/300\n",
      "27/27 [==============================] - 0s 6ms/step - loss: 0.3701 - accuracy: 0.8319 - val_loss: 0.9412 - val_accuracy: 0.5171\n",
      "Epoch 185/300\n",
      "27/27 [==============================] - 0s 6ms/step - loss: 0.3679 - accuracy: 0.8379 - val_loss: 0.9270 - val_accuracy: 0.5366\n",
      "Epoch 186/300\n",
      "27/27 [==============================] - 0s 6ms/step - loss: 0.3631 - accuracy: 0.8427 - val_loss: 0.9466 - val_accuracy: 0.5293\n",
      "Epoch 187/300\n",
      "27/27 [==============================] - 0s 6ms/step - loss: 0.3624 - accuracy: 0.8284 - val_loss: 0.9368 - val_accuracy: 0.5317\n",
      "Epoch 188/300\n",
      "27/27 [==============================] - 0s 6ms/step - loss: 0.3681 - accuracy: 0.8212 - val_loss: 0.9473 - val_accuracy: 0.5049\n",
      "Epoch 189/300\n",
      "27/27 [==============================] - 0s 6ms/step - loss: 0.3551 - accuracy: 0.8534 - val_loss: 0.9579 - val_accuracy: 0.5244\n",
      "Epoch 190/300\n",
      "27/27 [==============================] - 0s 6ms/step - loss: 0.3513 - accuracy: 0.8403 - val_loss: 0.9519 - val_accuracy: 0.5049\n",
      "Epoch 191/300\n",
      "27/27 [==============================] - 0s 6ms/step - loss: 0.3448 - accuracy: 0.8510 - val_loss: 0.9541 - val_accuracy: 0.5244\n",
      "Epoch 192/300\n",
      "27/27 [==============================] - 0s 6ms/step - loss: 0.3445 - accuracy: 0.8343 - val_loss: 0.9657 - val_accuracy: 0.5195\n",
      "Epoch 193/300\n",
      "27/27 [==============================] - 0s 6ms/step - loss: 0.3382 - accuracy: 0.8534 - val_loss: 0.9621 - val_accuracy: 0.5390\n",
      "Epoch 194/300\n",
      "27/27 [==============================] - 0s 6ms/step - loss: 0.3404 - accuracy: 0.8522 - val_loss: 0.9773 - val_accuracy: 0.5073\n",
      "Epoch 195/300\n",
      "27/27 [==============================] - 0s 7ms/step - loss: 0.3394 - accuracy: 0.8439 - val_loss: 0.9801 - val_accuracy: 0.5341\n",
      "Epoch 196/300\n",
      "27/27 [==============================] - 0s 7ms/step - loss: 0.3392 - accuracy: 0.8474 - val_loss: 0.9782 - val_accuracy: 0.5317\n",
      "Epoch 197/300\n",
      "27/27 [==============================] - 0s 6ms/step - loss: 0.3376 - accuracy: 0.8474 - val_loss: 0.9671 - val_accuracy: 0.5317\n",
      "Epoch 198/300\n",
      "27/27 [==============================] - 0s 6ms/step - loss: 0.3315 - accuracy: 0.8474 - val_loss: 0.9842 - val_accuracy: 0.5317\n",
      "Epoch 199/300\n",
      "27/27 [==============================] - 0s 6ms/step - loss: 0.3273 - accuracy: 0.8558 - val_loss: 0.9862 - val_accuracy: 0.5122\n",
      "Epoch 200/300\n",
      "27/27 [==============================] - 0s 6ms/step - loss: 0.3226 - accuracy: 0.8534 - val_loss: 1.0058 - val_accuracy: 0.5244\n",
      "Epoch 201/300\n",
      "27/27 [==============================] - 0s 6ms/step - loss: 0.3181 - accuracy: 0.8665 - val_loss: 0.9986 - val_accuracy: 0.5073\n",
      "Epoch 202/300\n",
      "27/27 [==============================] - 0s 6ms/step - loss: 0.3275 - accuracy: 0.8558 - val_loss: 1.0521 - val_accuracy: 0.5146\n",
      "Epoch 203/300\n",
      "27/27 [==============================] - 0s 6ms/step - loss: 0.3255 - accuracy: 0.8498 - val_loss: 1.0003 - val_accuracy: 0.5244\n",
      "Epoch 204/300\n",
      "27/27 [==============================] - 0s 6ms/step - loss: 0.3296 - accuracy: 0.8558 - val_loss: 1.0180 - val_accuracy: 0.5122\n",
      "Epoch 205/300\n",
      "27/27 [==============================] - 0s 6ms/step - loss: 0.3224 - accuracy: 0.8629 - val_loss: 1.0173 - val_accuracy: 0.5293\n",
      "Epoch 206/300\n",
      "27/27 [==============================] - 0s 6ms/step - loss: 0.3128 - accuracy: 0.8665 - val_loss: 1.0309 - val_accuracy: 0.5122\n",
      "Epoch 207/300\n",
      "27/27 [==============================] - 0s 6ms/step - loss: 0.3187 - accuracy: 0.8510 - val_loss: 1.0070 - val_accuracy: 0.5171\n",
      "Epoch 208/300\n",
      "27/27 [==============================] - 0s 6ms/step - loss: 0.3129 - accuracy: 0.8594 - val_loss: 1.0254 - val_accuracy: 0.5098\n",
      "Epoch 209/300\n",
      "27/27 [==============================] - 0s 6ms/step - loss: 0.3029 - accuracy: 0.8605 - val_loss: 1.0429 - val_accuracy: 0.5000\n",
      "Epoch 210/300\n",
      "27/27 [==============================] - 0s 6ms/step - loss: 0.2995 - accuracy: 0.8629 - val_loss: 1.0475 - val_accuracy: 0.5146\n",
      "Epoch 211/300\n",
      "27/27 [==============================] - 0s 6ms/step - loss: 0.2951 - accuracy: 0.8677 - val_loss: 1.0274 - val_accuracy: 0.5463\n",
      "Epoch 212/300\n",
      "27/27 [==============================] - 0s 6ms/step - loss: 0.2971 - accuracy: 0.8665 - val_loss: 1.0389 - val_accuracy: 0.5171\n",
      "Epoch 213/300\n",
      "27/27 [==============================] - 0s 6ms/step - loss: 0.2860 - accuracy: 0.8856 - val_loss: 1.0698 - val_accuracy: 0.5171\n",
      "Epoch 214/300\n",
      "27/27 [==============================] - 0s 7ms/step - loss: 0.2906 - accuracy: 0.8772 - val_loss: 1.0425 - val_accuracy: 0.5195\n",
      "Epoch 215/300\n",
      "27/27 [==============================] - 0s 6ms/step - loss: 0.2850 - accuracy: 0.8725 - val_loss: 1.0926 - val_accuracy: 0.5000\n",
      "Epoch 216/300\n",
      "27/27 [==============================] - 0s 6ms/step - loss: 0.2919 - accuracy: 0.8725 - val_loss: 1.0595 - val_accuracy: 0.5195\n",
      "Epoch 217/300\n",
      "27/27 [==============================] - 0s 6ms/step - loss: 0.2872 - accuracy: 0.8784 - val_loss: 1.0918 - val_accuracy: 0.5244\n",
      "Epoch 218/300\n",
      "27/27 [==============================] - 0s 6ms/step - loss: 0.2785 - accuracy: 0.8820 - val_loss: 1.0718 - val_accuracy: 0.5293\n",
      "Epoch 219/300\n",
      "27/27 [==============================] - 0s 6ms/step - loss: 0.2785 - accuracy: 0.8737 - val_loss: 1.0935 - val_accuracy: 0.5146\n",
      "Epoch 220/300\n",
      "27/27 [==============================] - 0s 6ms/step - loss: 0.2763 - accuracy: 0.8856 - val_loss: 1.0687 - val_accuracy: 0.5317\n",
      "Epoch 221/300\n",
      "27/27 [==============================] - 0s 6ms/step - loss: 0.2702 - accuracy: 0.8713 - val_loss: 1.0775 - val_accuracy: 0.5268\n",
      "Epoch 222/300\n",
      "27/27 [==============================] - 0s 6ms/step - loss: 0.2703 - accuracy: 0.8832 - val_loss: 1.0855 - val_accuracy: 0.5195\n",
      "Epoch 223/300\n",
      "27/27 [==============================] - 0s 7ms/step - loss: 0.2662 - accuracy: 0.8880 - val_loss: 1.0908 - val_accuracy: 0.5171\n",
      "Epoch 224/300\n",
      "27/27 [==============================] - 0s 7ms/step - loss: 0.2631 - accuracy: 0.8868 - val_loss: 1.0923 - val_accuracy: 0.5366\n",
      "Epoch 225/300\n",
      "27/27 [==============================] - 0s 6ms/step - loss: 0.2659 - accuracy: 0.8880 - val_loss: 1.1225 - val_accuracy: 0.5268\n",
      "Epoch 226/300\n",
      "27/27 [==============================] - 0s 6ms/step - loss: 0.2601 - accuracy: 0.8868 - val_loss: 1.0965 - val_accuracy: 0.5146\n",
      "Epoch 227/300\n",
      "27/27 [==============================] - 0s 7ms/step - loss: 0.2540 - accuracy: 0.9023 - val_loss: 1.1190 - val_accuracy: 0.5195\n",
      "Epoch 228/300\n",
      "27/27 [==============================] - 0s 6ms/step - loss: 0.2667 - accuracy: 0.8760 - val_loss: 1.1285 - val_accuracy: 0.5341\n",
      "Epoch 229/300\n",
      "27/27 [==============================] - 0s 6ms/step - loss: 0.2550 - accuracy: 0.8987 - val_loss: 1.1297 - val_accuracy: 0.5171\n",
      "Epoch 230/300\n"
     ]
    },
    {
     "name": "stdout",
     "output_type": "stream",
     "text": [
      "27/27 [==============================] - 0s 6ms/step - loss: 0.2510 - accuracy: 0.8999 - val_loss: 1.1385 - val_accuracy: 0.5220\n",
      "Epoch 231/300\n",
      "27/27 [==============================] - 0s 6ms/step - loss: 0.2431 - accuracy: 0.8999 - val_loss: 1.1419 - val_accuracy: 0.5268\n",
      "Epoch 232/300\n",
      "27/27 [==============================] - 0s 6ms/step - loss: 0.2424 - accuracy: 0.9011 - val_loss: 1.1466 - val_accuracy: 0.5073\n",
      "Epoch 233/300\n",
      "27/27 [==============================] - 0s 6ms/step - loss: 0.2571 - accuracy: 0.8927 - val_loss: 1.1683 - val_accuracy: 0.4976\n",
      "Epoch 234/300\n",
      "27/27 [==============================] - 0s 6ms/step - loss: 0.2786 - accuracy: 0.8749 - val_loss: 1.1877 - val_accuracy: 0.5244\n",
      "Epoch 235/300\n",
      "27/27 [==============================] - 0s 6ms/step - loss: 0.2698 - accuracy: 0.8772 - val_loss: 1.1637 - val_accuracy: 0.5195\n",
      "Epoch 236/300\n",
      "27/27 [==============================] - 0s 6ms/step - loss: 0.2568 - accuracy: 0.8951 - val_loss: 1.1719 - val_accuracy: 0.5122\n",
      "Epoch 237/300\n",
      "27/27 [==============================] - 0s 6ms/step - loss: 0.2510 - accuracy: 0.8999 - val_loss: 1.1707 - val_accuracy: 0.5268\n",
      "Epoch 238/300\n",
      "27/27 [==============================] - 0s 6ms/step - loss: 0.2410 - accuracy: 0.9070 - val_loss: 1.1540 - val_accuracy: 0.5024\n",
      "Epoch 239/300\n",
      "27/27 [==============================] - 0s 6ms/step - loss: 0.2276 - accuracy: 0.9035 - val_loss: 1.2098 - val_accuracy: 0.5146\n",
      "Epoch 240/300\n",
      "27/27 [==============================] - 0s 7ms/step - loss: 0.2273 - accuracy: 0.9070 - val_loss: 1.2052 - val_accuracy: 0.5049\n",
      "Epoch 241/300\n",
      "27/27 [==============================] - 0s 6ms/step - loss: 0.2260 - accuracy: 0.9130 - val_loss: 1.2004 - val_accuracy: 0.5220\n",
      "Epoch 242/300\n",
      "27/27 [==============================] - 0s 6ms/step - loss: 0.2406 - accuracy: 0.8963 - val_loss: 1.1739 - val_accuracy: 0.5146\n",
      "Epoch 243/300\n",
      "27/27 [==============================] - 0s 6ms/step - loss: 0.2242 - accuracy: 0.9046 - val_loss: 1.2118 - val_accuracy: 0.5024\n",
      "Epoch 244/300\n",
      "27/27 [==============================] - 0s 6ms/step - loss: 0.2251 - accuracy: 0.9118 - val_loss: 1.2254 - val_accuracy: 0.5146\n",
      "Epoch 245/300\n",
      "27/27 [==============================] - 0s 6ms/step - loss: 0.2155 - accuracy: 0.9166 - val_loss: 1.2455 - val_accuracy: 0.4829\n",
      "Epoch 246/300\n",
      "27/27 [==============================] - 0s 6ms/step - loss: 0.2206 - accuracy: 0.9106 - val_loss: 1.2697 - val_accuracy: 0.5098\n",
      "Epoch 247/300\n",
      "27/27 [==============================] - 0s 6ms/step - loss: 0.2289 - accuracy: 0.9058 - val_loss: 1.1959 - val_accuracy: 0.5122\n",
      "Epoch 248/300\n",
      "27/27 [==============================] - 0s 6ms/step - loss: 0.2218 - accuracy: 0.9035 - val_loss: 1.2456 - val_accuracy: 0.5049\n",
      "Epoch 249/300\n",
      "27/27 [==============================] - 0s 7ms/step - loss: 0.2054 - accuracy: 0.9201 - val_loss: 1.2775 - val_accuracy: 0.5049\n",
      "Epoch 250/300\n",
      "27/27 [==============================] - 0s 6ms/step - loss: 0.2437 - accuracy: 0.8975 - val_loss: 1.2605 - val_accuracy: 0.4951\n",
      "Epoch 251/300\n",
      "27/27 [==============================] - 0s 6ms/step - loss: 0.2139 - accuracy: 0.9118 - val_loss: 1.3217 - val_accuracy: 0.4976\n",
      "Epoch 252/300\n",
      "27/27 [==============================] - 0s 6ms/step - loss: 0.2097 - accuracy: 0.9154 - val_loss: 1.2841 - val_accuracy: 0.5098\n",
      "Epoch 253/300\n",
      "27/27 [==============================] - 0s 6ms/step - loss: 0.2029 - accuracy: 0.9213 - val_loss: 1.2908 - val_accuracy: 0.5098\n",
      "Epoch 254/300\n",
      "27/27 [==============================] - 0s 6ms/step - loss: 0.1977 - accuracy: 0.9190 - val_loss: 1.2744 - val_accuracy: 0.5195\n",
      "Epoch 255/300\n",
      "27/27 [==============================] - 0s 6ms/step - loss: 0.1900 - accuracy: 0.9333 - val_loss: 1.2772 - val_accuracy: 0.5146\n",
      "Epoch 256/300\n",
      "27/27 [==============================] - 0s 6ms/step - loss: 0.1895 - accuracy: 0.9356 - val_loss: 1.2991 - val_accuracy: 0.5171\n",
      "Epoch 257/300\n",
      "27/27 [==============================] - 0s 6ms/step - loss: 0.1888 - accuracy: 0.9249 - val_loss: 1.3089 - val_accuracy: 0.5049\n",
      "Epoch 258/300\n",
      "27/27 [==============================] - 0s 7ms/step - loss: 0.1851 - accuracy: 0.9380 - val_loss: 1.3240 - val_accuracy: 0.4927\n",
      "Epoch 259/300\n",
      "27/27 [==============================] - 0s 6ms/step - loss: 0.1890 - accuracy: 0.9261 - val_loss: 1.3302 - val_accuracy: 0.5024\n",
      "Epoch 260/300\n",
      "27/27 [==============================] - 0s 6ms/step - loss: 0.1839 - accuracy: 0.9273 - val_loss: 1.3199 - val_accuracy: 0.4878\n",
      "Epoch 261/300\n",
      "27/27 [==============================] - 0s 6ms/step - loss: 0.1792 - accuracy: 0.9344 - val_loss: 1.3959 - val_accuracy: 0.4927\n",
      "Epoch 262/300\n",
      "27/27 [==============================] - 0s 7ms/step - loss: 0.1847 - accuracy: 0.9356 - val_loss: 1.3082 - val_accuracy: 0.5146\n",
      "Epoch 263/300\n",
      "27/27 [==============================] - 0s 7ms/step - loss: 0.1747 - accuracy: 0.9404 - val_loss: 1.3341 - val_accuracy: 0.4927\n",
      "Epoch 264/300\n",
      "27/27 [==============================] - 0s 8ms/step - loss: 0.1796 - accuracy: 0.9285 - val_loss: 1.3432 - val_accuracy: 0.5073\n",
      "Epoch 265/300\n",
      "27/27 [==============================] - 0s 8ms/step - loss: 0.1814 - accuracy: 0.9273 - val_loss: 1.3718 - val_accuracy: 0.4878\n",
      "Epoch 266/300\n",
      "27/27 [==============================] - 0s 8ms/step - loss: 0.1732 - accuracy: 0.9404 - val_loss: 1.3809 - val_accuracy: 0.5000\n",
      "Epoch 267/300\n",
      "27/27 [==============================] - 0s 8ms/step - loss: 0.1706 - accuracy: 0.9368 - val_loss: 1.3175 - val_accuracy: 0.5000\n",
      "Epoch 268/300\n",
      "27/27 [==============================] - 0s 7ms/step - loss: 0.1640 - accuracy: 0.9464 - val_loss: 1.3705 - val_accuracy: 0.5000\n",
      "Epoch 269/300\n",
      "27/27 [==============================] - 0s 6ms/step - loss: 0.1709 - accuracy: 0.9368 - val_loss: 1.3386 - val_accuracy: 0.4829\n",
      "Epoch 270/300\n",
      "27/27 [==============================] - 0s 6ms/step - loss: 0.1672 - accuracy: 0.9380 - val_loss: 1.3800 - val_accuracy: 0.4902\n",
      "Epoch 271/300\n",
      "27/27 [==============================] - 0s 7ms/step - loss: 0.1635 - accuracy: 0.9452 - val_loss: 1.3950 - val_accuracy: 0.5000\n",
      "Epoch 272/300\n",
      "27/27 [==============================] - 0s 6ms/step - loss: 0.1575 - accuracy: 0.9487 - val_loss: 1.3691 - val_accuracy: 0.5000\n",
      "Epoch 273/300\n",
      "27/27 [==============================] - 0s 6ms/step - loss: 0.1584 - accuracy: 0.9487 - val_loss: 1.4347 - val_accuracy: 0.4976\n",
      "Epoch 274/300\n",
      "27/27 [==============================] - 0s 7ms/step - loss: 0.1556 - accuracy: 0.9368 - val_loss: 1.4391 - val_accuracy: 0.4854\n",
      "Epoch 275/300\n",
      "27/27 [==============================] - 0s 6ms/step - loss: 0.1832 - accuracy: 0.9273 - val_loss: 1.4112 - val_accuracy: 0.4683\n",
      "Epoch 276/300\n",
      "27/27 [==============================] - 0s 6ms/step - loss: 0.1576 - accuracy: 0.9416 - val_loss: 1.4215 - val_accuracy: 0.5000\n",
      "Epoch 277/300\n",
      "27/27 [==============================] - 0s 6ms/step - loss: 0.1503 - accuracy: 0.9464 - val_loss: 1.4448 - val_accuracy: 0.5000\n",
      "Epoch 278/300\n",
      "27/27 [==============================] - 0s 7ms/step - loss: 0.1451 - accuracy: 0.9487 - val_loss: 1.4668 - val_accuracy: 0.4878\n",
      "Epoch 279/300\n",
      "27/27 [==============================] - 0s 7ms/step - loss: 0.1407 - accuracy: 0.9511 - val_loss: 1.4855 - val_accuracy: 0.4878\n",
      "Epoch 280/300\n",
      "27/27 [==============================] - 0s 6ms/step - loss: 0.1384 - accuracy: 0.9499 - val_loss: 1.4740 - val_accuracy: 0.4951\n",
      "Epoch 281/300\n",
      "27/27 [==============================] - 0s 6ms/step - loss: 0.1416 - accuracy: 0.9464 - val_loss: 1.4977 - val_accuracy: 0.4927\n",
      "Epoch 282/300\n",
      "27/27 [==============================] - 0s 6ms/step - loss: 0.1433 - accuracy: 0.9452 - val_loss: 1.4916 - val_accuracy: 0.4756\n",
      "Epoch 283/300\n",
      "27/27 [==============================] - 0s 7ms/step - loss: 0.1340 - accuracy: 0.9571 - val_loss: 1.4774 - val_accuracy: 0.4756\n",
      "Epoch 284/300\n",
      "27/27 [==============================] - 0s 7ms/step - loss: 0.1449 - accuracy: 0.9452 - val_loss: 1.5224 - val_accuracy: 0.4854\n",
      "Epoch 285/300\n",
      "27/27 [==============================] - 0s 6ms/step - loss: 0.1441 - accuracy: 0.9511 - val_loss: 1.4743 - val_accuracy: 0.5024\n",
      "Epoch 286/300\n",
      "27/27 [==============================] - 0s 6ms/step - loss: 0.1340 - accuracy: 0.9523 - val_loss: 1.5533 - val_accuracy: 0.4732\n",
      "Epoch 287/300\n"
     ]
    },
    {
     "name": "stdout",
     "output_type": "stream",
     "text": [
      "27/27 [==============================] - 0s 6ms/step - loss: 0.1742 - accuracy: 0.9285 - val_loss: 1.5167 - val_accuracy: 0.4878\n",
      "Epoch 288/300\n",
      "27/27 [==============================] - 0s 6ms/step - loss: 0.1665 - accuracy: 0.9321 - val_loss: 1.5486 - val_accuracy: 0.5171\n",
      "Epoch 289/300\n",
      "27/27 [==============================] - 0s 6ms/step - loss: 0.1431 - accuracy: 0.9476 - val_loss: 1.5135 - val_accuracy: 0.4829\n",
      "Epoch 290/300\n",
      "27/27 [==============================] - 0s 6ms/step - loss: 0.1327 - accuracy: 0.9535 - val_loss: 1.5599 - val_accuracy: 0.4951\n",
      "Epoch 291/300\n",
      "27/27 [==============================] - 0s 6ms/step - loss: 0.1492 - accuracy: 0.9535 - val_loss: 1.5523 - val_accuracy: 0.5024\n",
      "Epoch 292/300\n",
      "27/27 [==============================] - 0s 6ms/step - loss: 0.1677 - accuracy: 0.9297 - val_loss: 1.5232 - val_accuracy: 0.5098\n",
      "Epoch 293/300\n",
      "27/27 [==============================] - 0s 6ms/step - loss: 0.1953 - accuracy: 0.9285 - val_loss: 1.5613 - val_accuracy: 0.4976\n",
      "Epoch 294/300\n",
      "27/27 [==============================] - 0s 6ms/step - loss: 0.2132 - accuracy: 0.9225 - val_loss: 1.5777 - val_accuracy: 0.5000\n",
      "Epoch 295/300\n",
      "27/27 [==============================] - 0s 6ms/step - loss: 0.2081 - accuracy: 0.9261 - val_loss: 1.5941 - val_accuracy: 0.4756\n",
      "Epoch 296/300\n",
      "27/27 [==============================] - 0s 6ms/step - loss: 0.1507 - accuracy: 0.9452 - val_loss: 1.5779 - val_accuracy: 0.4927\n",
      "Epoch 297/300\n",
      "27/27 [==============================] - 0s 6ms/step - loss: 0.1392 - accuracy: 0.9464 - val_loss: 1.5855 - val_accuracy: 0.4927\n",
      "Epoch 298/300\n",
      "27/27 [==============================] - 0s 6ms/step - loss: 0.1302 - accuracy: 0.9571 - val_loss: 1.5942 - val_accuracy: 0.4951\n",
      "Epoch 299/300\n",
      "27/27 [==============================] - 0s 6ms/step - loss: 0.1192 - accuracy: 0.9642 - val_loss: 1.6045 - val_accuracy: 0.4976\n",
      "Epoch 300/300\n",
      "27/27 [==============================] - 0s 6ms/step - loss: 0.1164 - accuracy: 0.9631 - val_loss: 1.6077 - val_accuracy: 0.4902\n"
     ]
    }
   ],
   "source": [
    "# train the RNN\n",
    "r = model.fit(\n",
    "  X_train, Y_train,\n",
    "  batch_size=32,\n",
    "  epochs=300,\n",
    "  validation_data=(X_test, Y_test),\n",
    ")"
   ]
  },
  {
   "cell_type": "code",
   "execution_count": 46,
   "metadata": {
    "colab": {
     "base_uri": "https://localhost:8080/",
     "height": 269
    },
    "id": "erq--mqRRgfR",
    "outputId": "21ff0f1b-83bb-4c4b-e100-5b5b2a0e6cd5"
   },
   "outputs": [
    {
     "data": {
      "image/png": "[encoded data removed]",
      "text/plain": [
       "<Figure size 432x288 with 1 Axes>"
      ]
     },
     "metadata": {},
     "output_type": "display_data"
    }
   ],
   "source": [
    "# plot the loss\n",
    "plt.plot(r.history['loss'], label='loss')\n",
    "plt.plot(r.history['val_loss'], label='val_loss')\n",
    "plt.legend()\n",
    "plt.show()"
   ]
  },
  {
   "cell_type": "code",
   "execution_count": 47,
   "metadata": {
    "colab": {
     "base_uri": "https://localhost:8080/",
     "height": 269
    },
    "id": "D9ZzosDMRjBU",
    "outputId": "ce168bc1-9259-4c4a-fceb-a9832602bc1b"
   },
   "outputs": [
    {
     "data": {
      "image/png": "[encoded data removed]",
      "text/plain": [
       "<Figure size 432x288 with 1 Axes>"
      ]
     },
     "metadata": {},
     "output_type": "display_data"
    }
   ],
   "source": [
    "# Plot accuracy per iteration\n",
    "plt.plot(r.history['accuracy'], label='accuracy')\n",
    "plt.plot(r.history['val_accuracy'], label='val_accuracy')\n",
    "plt.legend()\n",
    "plt.show()"
   ]
  }
 ],
 "metadata": {
  "accelerator": "GPU",
  "colab": {
   "collapsed_sections": [],
   "name": "TF2.0 Stock Returns.ipynb",
   "provenance": []
  },
  "kernelspec": {
   "display_name": "Python 3",
   "language": "python",
   "name": "python3"
  },
  "language_info": {
   "codemirror_mode": {
    "name": "ipython",
    "version": 3
   },
   "file_extension": ".py",
   "mimetype": "text/x-python",
   "name": "python",
   "nbconvert_exporter": "python",
   "pygments_lexer": "ipython3",
   "version": "3.7.9"
  }
 },
 "nbformat": 4,
 "nbformat_minor": 1
}

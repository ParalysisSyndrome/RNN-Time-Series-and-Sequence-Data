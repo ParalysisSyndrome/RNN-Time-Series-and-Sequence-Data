{
 "cells": [
  {
   "cell_type": "code",
   "execution_count": 1,
   "metadata": {
    "colab": {
     "base_uri": "https://localhost:8080/",
     "height": 85
    },
    "id": "KiqvBJQlDNPd",
    "outputId": "ae8784b3-3982-45eb-8e92-677af0ab2868"
   },
   "outputs": [
    {
     "name": "stdout",
     "output_type": "stream",
     "text": [
      "2.3.1\n"
     ]
    }
   ],
   "source": [
    "# Install TensorFlow\n",
    "# !pip install -q tensorflow-gpu==2.0.0-beta1\n",
    "\n",
    "try:\n",
    "    %tensorflow_version 2.x  # Colab only.\n",
    "except Exception:\n",
    "    pass\n",
    "\n",
    "import tensorflow as tf\n",
    "print(tf.__version__)"
   ]
  },
  {
   "cell_type": "code",
   "execution_count": 2,
   "metadata": {
    "id": "Jl8zf2weDiLM"
   },
   "outputs": [],
   "source": [
    "from tensorflow.keras.layers import Input, SimpleRNN, Dense, Flatten\n",
    "from tensorflow.keras.models import Model\n",
    "from tensorflow.keras.optimizers import SGD, Adam\n",
    "\n",
    "import numpy as np\n",
    "import pandas as pd\n",
    "import matplotlib.pyplot as plt\n",
    "plt.style.use('ggplot')"
   ]
  },
  {
   "cell_type": "markdown",
   "metadata": {
    "id": "LLxnQYNWFfjN"
   },
   "source": [
    "Things you should automatically know and have memorized :\n",
    "- N = number of samples\n",
    "- T = sequence length\n",
    "- D = number of input features\n",
    "- M = number of hidden units\n",
    "- K = number of output units"
   ]
  },
  {
   "cell_type": "code",
   "execution_count": 3,
   "metadata": {
    "id": "XUM469Z7Dndx"
   },
   "outputs": [],
   "source": [
    "# Make some data\n",
    "N = 1\n",
    "T = 10\n",
    "D = 3\n",
    "K = 2\n",
    "X = np.random.randn(N, T, D)"
   ]
  },
  {
   "cell_type": "code",
   "execution_count": 4,
   "metadata": {
    "id": "F8ZZ1E2TDxOt"
   },
   "outputs": [],
   "source": [
    "# Make an RNN\n",
    "M = 5 # number of hidden units\n",
    "i = Input(shape=(T, D))\n",
    "x = SimpleRNN(M)(i)\n",
    "x = Dense(K)(x)\n",
    "\n",
    "model = Model(i, x)"
   ]
  },
  {
   "cell_type": "code",
   "execution_count": 5,
   "metadata": {
    "colab": {
     "base_uri": "https://localhost:8080/",
     "height": 34
    },
    "id": "hLjIp7eZEApH",
    "outputId": "c428b3f9-4ed6-44ac-ac15-d0121a946f21"
   },
   "outputs": [
    {
     "name": "stdout",
     "output_type": "stream",
     "text": [
      "[[-0.8550651  0.283166 ]]\n"
     ]
    }
   ],
   "source": [
    "# Get the output\n",
    "Yhat = model.predict(X)\n",
    "print(Yhat)"
   ]
  },
  {
   "cell_type": "code",
   "execution_count": 6,
   "metadata": {
    "colab": {
     "base_uri": "https://localhost:8080/",
     "height": 255
    },
    "id": "V-3JmKEgEGc9",
    "outputId": "50f10128-1e76-4f20-c72b-2b1896bb7fb9"
   },
   "outputs": [
    {
     "name": "stdout",
     "output_type": "stream",
     "text": [
      "Model: \"functional_1\"\n",
      "_________________________________________________________________\n",
      "Layer (type)                 Output Shape              Param #   \n",
      "=================================================================\n",
      "input_1 (InputLayer)         [(None, 10, 3)]           0         \n",
      "_________________________________________________________________\n",
      "simple_rnn (SimpleRNN)       (None, 5)                 45        \n",
      "_________________________________________________________________\n",
      "dense (Dense)                (None, 2)                 12        \n",
      "=================================================================\n",
      "Total params: 57\n",
      "Trainable params: 57\n",
      "Non-trainable params: 0\n",
      "_________________________________________________________________\n"
     ]
    }
   ],
   "source": [
    "# See if we can replicate this output\n",
    "# Get the weights first\n",
    "model.summary()"
   ]
  },
  {
   "cell_type": "code",
   "execution_count": 7,
   "metadata": {
    "colab": {
     "base_uri": "https://localhost:8080/",
     "height": 204
    },
    "id": "Q_FobnZqEbtv",
    "outputId": "7a665488-8ef6-4d02-ee96-7cee7433d6cd"
   },
   "outputs": [
    {
     "data": {
      "text/plain": [
       "[array([[ 0.12038988, -0.178244  , -0.5977818 , -0.35886657, -0.5249387 ],\n",
       "        [-0.5009583 , -0.7376007 , -0.85453355,  0.84260637, -0.58272743],\n",
       "        [ 0.25938445,  0.6050146 , -0.10853481, -0.67347467, -0.21369576]],\n",
       "       dtype=float32),\n",
       " array([[-0.66141057,  0.5249954 , -0.53215104,  0.05715685,  0.02154645],\n",
       "        [ 0.17171894, -0.20291324, -0.5056243 , -0.68780315, -0.44789484],\n",
       "        [ 0.0875669 , -0.42093942, -0.46218592,  0.7013838 , -0.33103874],\n",
       "        [ 0.07061481, -0.35638615, -0.4175311 , -0.10806693,  0.8258279 ],\n",
       "        [ 0.72138363,  0.6156337 , -0.27057582,  0.14156973,  0.08571783]],\n",
       "       dtype=float32),\n",
       " array([0., 0., 0., 0., 0.], dtype=float32)]"
      ]
     },
     "execution_count": 7,
     "metadata": {},
     "output_type": "execute_result"
    }
   ],
   "source": [
    "# See what's returned\n",
    "model.layers[1].get_weights()"
   ]
  },
  {
   "cell_type": "code",
   "execution_count": 8,
   "metadata": {
    "colab": {
     "base_uri": "https://localhost:8080/",
     "height": 34
    },
    "id": "6FWsTeCJEjNc",
    "outputId": "43587cd2-841b-4c7d-9d18-bbdfaee46bbd"
   },
   "outputs": [
    {
     "name": "stdout",
     "output_type": "stream",
     "text": [
      "(3, 5) (5, 5) (5,)\n"
     ]
    }
   ],
   "source": [
    "# Check their shapes\n",
    "# Should make sense\n",
    "# First output is input > hidden\n",
    "# Second output is hidden > hidden\n",
    "# Third output is bias term (vector of length M)\n",
    "a, b, c = model.layers[1].get_weights()\n",
    "print(a.shape, b.shape, c.shape)"
   ]
  },
  {
   "cell_type": "code",
   "execution_count": 9,
   "metadata": {
    "id": "eCU8mjC2Ew8C"
   },
   "outputs": [],
   "source": [
    "Wx, Wh, bh = model.layers[1].get_weights()\n",
    "Wo, bo = model.layers[2].get_weights()"
   ]
  },
  {
   "cell_type": "code",
   "execution_count": 10,
   "metadata": {
    "colab": {
     "base_uri": "https://localhost:8080/",
     "height": 34
    },
    "id": "Z7IT6dz8EV-B",
    "outputId": "fb0937f3-a3fd-4af2-e991-6ea1c3d76806"
   },
   "outputs": [
    {
     "name": "stdout",
     "output_type": "stream",
     "text": [
      "[-0.85506506  0.28316603]\n"
     ]
    }
   ],
   "source": [
    "h_last = np.zeros(M) # initial hidden state\n",
    "x = X[0] # the one and only sample\n",
    "Yhats = [] # where we store the outputs\n",
    "\n",
    "for t in range(T):\n",
    "    h = np.tanh(x[t].dot(Wx) + h_last.dot(Wh) + bh)\n",
    "    y = h.dot(Wo) + bo # we only care about this value on the last iteration\n",
    "    Yhats.append(y)\n",
    "\n",
    "    # important: assign h to h_last\n",
    "    h_last = h\n",
    "\n",
    "# print the final output\n",
    "print(Yhats[-1])"
   ]
  },
  {
   "cell_type": "code",
   "execution_count": null,
   "metadata": {},
   "outputs": [],
   "source": []
  },
  {
   "cell_type": "code",
   "execution_count": 11,
   "metadata": {
    "id": "s42pMfj1FvnX"
   },
   "outputs": [],
   "source": [
    "# Bonus exercise: calculate the output for multiple samples at once (N > 1)"
   ]
  }
 ],
 "metadata": {
  "colab": {
   "collapsed_sections": [],
   "name": "TF2.0 RNN Shapes.ipynb",
   "provenance": []
  },
  "kernelspec": {
   "display_name": "Python 3",
   "language": "python",
   "name": "python3"
  },
  "language_info": {
   "codemirror_mode": {
    "name": "ipython",
    "version": 3
   },
   "file_extension": ".py",
   "mimetype": "text/x-python",
   "name": "python",
   "nbconvert_exporter": "python",
   "pygments_lexer": "ipython3",
   "version": "3.7.9"
  }
 },
 "nbformat": 4,
 "nbformat_minor": 1
}
